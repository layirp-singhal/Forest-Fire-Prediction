{
  "cells": [
    {
      "cell_type": "markdown",
      "metadata": {
        "id": "view-in-github",
        "colab_type": "text"
      },
      "source": [
        "<a href=\"https://colab.research.google.com/github/psps-projects/Forest-Fire-Prediction/blob/main/project_1_code.ipynb\" target=\"_parent\"><img src=\"https://colab.research.google.com/assets/colab-badge.svg\" alt=\"Open In Colab\"/></a>"
      ]
    },
    {
      "cell_type": "code",
      "execution_count": null,
      "metadata": {
        "id": "2d48f735"
      },
      "outputs": [],
      "source": [
        "import numpy as np\n",
        "import pandas as pd\n",
        "import matplotlib.pyplot as plt\n",
        "import seaborn as sns\n",
        "import statsmodels.api as sm\n",
        "import pylab as py"
      ],
      "id": "2d48f735"
    },
    {
      "cell_type": "code",
      "execution_count": null,
      "metadata": {
        "id": "087e291b"
      },
      "outputs": [],
      "source": [
        "# **Importing the dataset**"
      ],
      "id": "087e291b"
    },
    {
      "cell_type": "code",
      "execution_count": null,
      "metadata": {
        "id": "3a01cc9b"
      },
      "outputs": [],
      "source": [
        "dataset=pd.read_csv(\"DATA FOR PROJECT (1).csv\")"
      ],
      "id": "3a01cc9b"
    },
    {
      "cell_type": "code",
      "execution_count": null,
      "metadata": {
        "id": "2c2a7b2b",
        "colab": {
          "base_uri": "https://localhost:8080/",
          "height": 235
        },
        "outputId": "a72800fa-2cf2-4ce2-8974-814dfa27558b"
      },
      "outputs": [
        {
          "output_type": "execute_result",
          "data": {
            "text/plain": [
              "       aes    wmo  temp   td    rh    ws    wg  wdir    pres   vis  ...  \\\n",
              "0  1012475  71031   9.5  8.6  94.0   8.6  23.2   261  1007.7  24.5  ...   \n",
              "1  1012710  71798  10.2  6.2  76.0  35.8  45.7   252  1007.8  24.7  ...   \n",
              "2  1014820  71774   9.4  5.5  76.9  23.4   NaN   255  1006.6  39.6  ...   \n",
              "3  1015630  71927  11.6  4.4  61.0  12.0  24.1   257  1007.0  39.8  ...   \n",
              "4  1016640  71778   9.2  6.9  85.0  45.0  54.0   259  1008.8  26.6  ...   \n",
              "\n",
              "   rndays  sog  ffmc  dmc    dc  bui  isi  fwi  dsr  Fire/Not Fire  \n",
              "0       0  0.0   8.9  0.1  85.6  0.1  0.0  0.0  0.0            0.0  \n",
              "1       0  0.0  35.6  0.3   1.5  0.4  0.1  0.0  0.0            0.0  \n",
              "2       0  0.0   NaN  NaN   NaN  NaN  NaN  NaN  NaN            NaN  \n",
              "3       0  0.0  36.9  0.5   1.8  0.6  0.0  0.0  0.0            0.0  \n",
              "4       0  0.0  28.8  0.2   1.4  0.2  0.0  0.0  0.0            0.0  \n",
              "\n",
              "[5 rows x 21 columns]"
            ],
            "text/html": [
              "\n",
              "  <div id=\"df-2767f1ea-7db6-42a2-995f-611b0e36d611\">\n",
              "    <div class=\"colab-df-container\">\n",
              "      <div>\n",
              "<style scoped>\n",
              "    .dataframe tbody tr th:only-of-type {\n",
              "        vertical-align: middle;\n",
              "    }\n",
              "\n",
              "    .dataframe tbody tr th {\n",
              "        vertical-align: top;\n",
              "    }\n",
              "\n",
              "    .dataframe thead th {\n",
              "        text-align: right;\n",
              "    }\n",
              "</style>\n",
              "<table border=\"1\" class=\"dataframe\">\n",
              "  <thead>\n",
              "    <tr style=\"text-align: right;\">\n",
              "      <th></th>\n",
              "      <th>aes</th>\n",
              "      <th>wmo</th>\n",
              "      <th>temp</th>\n",
              "      <th>td</th>\n",
              "      <th>rh</th>\n",
              "      <th>ws</th>\n",
              "      <th>wg</th>\n",
              "      <th>wdir</th>\n",
              "      <th>pres</th>\n",
              "      <th>vis</th>\n",
              "      <th>...</th>\n",
              "      <th>rndays</th>\n",
              "      <th>sog</th>\n",
              "      <th>ffmc</th>\n",
              "      <th>dmc</th>\n",
              "      <th>dc</th>\n",
              "      <th>bui</th>\n",
              "      <th>isi</th>\n",
              "      <th>fwi</th>\n",
              "      <th>dsr</th>\n",
              "      <th>Fire/Not Fire</th>\n",
              "    </tr>\n",
              "  </thead>\n",
              "  <tbody>\n",
              "    <tr>\n",
              "      <th>0</th>\n",
              "      <td>1012475</td>\n",
              "      <td>71031</td>\n",
              "      <td>9.5</td>\n",
              "      <td>8.6</td>\n",
              "      <td>94.0</td>\n",
              "      <td>8.6</td>\n",
              "      <td>23.2</td>\n",
              "      <td>261</td>\n",
              "      <td>1007.7</td>\n",
              "      <td>24.5</td>\n",
              "      <td>...</td>\n",
              "      <td>0</td>\n",
              "      <td>0.0</td>\n",
              "      <td>8.9</td>\n",
              "      <td>0.1</td>\n",
              "      <td>85.6</td>\n",
              "      <td>0.1</td>\n",
              "      <td>0.0</td>\n",
              "      <td>0.0</td>\n",
              "      <td>0.0</td>\n",
              "      <td>0.0</td>\n",
              "    </tr>\n",
              "    <tr>\n",
              "      <th>1</th>\n",
              "      <td>1012710</td>\n",
              "      <td>71798</td>\n",
              "      <td>10.2</td>\n",
              "      <td>6.2</td>\n",
              "      <td>76.0</td>\n",
              "      <td>35.8</td>\n",
              "      <td>45.7</td>\n",
              "      <td>252</td>\n",
              "      <td>1007.8</td>\n",
              "      <td>24.7</td>\n",
              "      <td>...</td>\n",
              "      <td>0</td>\n",
              "      <td>0.0</td>\n",
              "      <td>35.6</td>\n",
              "      <td>0.3</td>\n",
              "      <td>1.5</td>\n",
              "      <td>0.4</td>\n",
              "      <td>0.1</td>\n",
              "      <td>0.0</td>\n",
              "      <td>0.0</td>\n",
              "      <td>0.0</td>\n",
              "    </tr>\n",
              "    <tr>\n",
              "      <th>2</th>\n",
              "      <td>1014820</td>\n",
              "      <td>71774</td>\n",
              "      <td>9.4</td>\n",
              "      <td>5.5</td>\n",
              "      <td>76.9</td>\n",
              "      <td>23.4</td>\n",
              "      <td>NaN</td>\n",
              "      <td>255</td>\n",
              "      <td>1006.6</td>\n",
              "      <td>39.6</td>\n",
              "      <td>...</td>\n",
              "      <td>0</td>\n",
              "      <td>0.0</td>\n",
              "      <td>NaN</td>\n",
              "      <td>NaN</td>\n",
              "      <td>NaN</td>\n",
              "      <td>NaN</td>\n",
              "      <td>NaN</td>\n",
              "      <td>NaN</td>\n",
              "      <td>NaN</td>\n",
              "      <td>NaN</td>\n",
              "    </tr>\n",
              "    <tr>\n",
              "      <th>3</th>\n",
              "      <td>1015630</td>\n",
              "      <td>71927</td>\n",
              "      <td>11.6</td>\n",
              "      <td>4.4</td>\n",
              "      <td>61.0</td>\n",
              "      <td>12.0</td>\n",
              "      <td>24.1</td>\n",
              "      <td>257</td>\n",
              "      <td>1007.0</td>\n",
              "      <td>39.8</td>\n",
              "      <td>...</td>\n",
              "      <td>0</td>\n",
              "      <td>0.0</td>\n",
              "      <td>36.9</td>\n",
              "      <td>0.5</td>\n",
              "      <td>1.8</td>\n",
              "      <td>0.6</td>\n",
              "      <td>0.0</td>\n",
              "      <td>0.0</td>\n",
              "      <td>0.0</td>\n",
              "      <td>0.0</td>\n",
              "    </tr>\n",
              "    <tr>\n",
              "      <th>4</th>\n",
              "      <td>1016640</td>\n",
              "      <td>71778</td>\n",
              "      <td>9.2</td>\n",
              "      <td>6.9</td>\n",
              "      <td>85.0</td>\n",
              "      <td>45.0</td>\n",
              "      <td>54.0</td>\n",
              "      <td>259</td>\n",
              "      <td>1008.8</td>\n",
              "      <td>26.6</td>\n",
              "      <td>...</td>\n",
              "      <td>0</td>\n",
              "      <td>0.0</td>\n",
              "      <td>28.8</td>\n",
              "      <td>0.2</td>\n",
              "      <td>1.4</td>\n",
              "      <td>0.2</td>\n",
              "      <td>0.0</td>\n",
              "      <td>0.0</td>\n",
              "      <td>0.0</td>\n",
              "      <td>0.0</td>\n",
              "    </tr>\n",
              "  </tbody>\n",
              "</table>\n",
              "<p>5 rows × 21 columns</p>\n",
              "</div>\n",
              "      <button class=\"colab-df-convert\" onclick=\"convertToInteractive('df-2767f1ea-7db6-42a2-995f-611b0e36d611')\"\n",
              "              title=\"Convert this dataframe to an interactive table.\"\n",
              "              style=\"display:none;\">\n",
              "        \n",
              "  <svg xmlns=\"http://www.w3.org/2000/svg\" height=\"24px\"viewBox=\"0 0 24 24\"\n",
              "       width=\"24px\">\n",
              "    <path d=\"M0 0h24v24H0V0z\" fill=\"none\"/>\n",
              "    <path d=\"M18.56 5.44l.94 2.06.94-2.06 2.06-.94-2.06-.94-.94-2.06-.94 2.06-2.06.94zm-11 1L8.5 8.5l.94-2.06 2.06-.94-2.06-.94L8.5 2.5l-.94 2.06-2.06.94zm10 10l.94 2.06.94-2.06 2.06-.94-2.06-.94-.94-2.06-.94 2.06-2.06.94z\"/><path d=\"M17.41 7.96l-1.37-1.37c-.4-.4-.92-.59-1.43-.59-.52 0-1.04.2-1.43.59L10.3 9.45l-7.72 7.72c-.78.78-.78 2.05 0 2.83L4 21.41c.39.39.9.59 1.41.59.51 0 1.02-.2 1.41-.59l7.78-7.78 2.81-2.81c.8-.78.8-2.07 0-2.86zM5.41 20L4 18.59l7.72-7.72 1.47 1.35L5.41 20z\"/>\n",
              "  </svg>\n",
              "      </button>\n",
              "      \n",
              "  <style>\n",
              "    .colab-df-container {\n",
              "      display:flex;\n",
              "      flex-wrap:wrap;\n",
              "      gap: 12px;\n",
              "    }\n",
              "\n",
              "    .colab-df-convert {\n",
              "      background-color: #E8F0FE;\n",
              "      border: none;\n",
              "      border-radius: 50%;\n",
              "      cursor: pointer;\n",
              "      display: none;\n",
              "      fill: #1967D2;\n",
              "      height: 32px;\n",
              "      padding: 0 0 0 0;\n",
              "      width: 32px;\n",
              "    }\n",
              "\n",
              "    .colab-df-convert:hover {\n",
              "      background-color: #E2EBFA;\n",
              "      box-shadow: 0px 1px 2px rgba(60, 64, 67, 0.3), 0px 1px 3px 1px rgba(60, 64, 67, 0.15);\n",
              "      fill: #174EA6;\n",
              "    }\n",
              "\n",
              "    [theme=dark] .colab-df-convert {\n",
              "      background-color: #3B4455;\n",
              "      fill: #D2E3FC;\n",
              "    }\n",
              "\n",
              "    [theme=dark] .colab-df-convert:hover {\n",
              "      background-color: #434B5C;\n",
              "      box-shadow: 0px 1px 3px 1px rgba(0, 0, 0, 0.15);\n",
              "      filter: drop-shadow(0px 1px 2px rgba(0, 0, 0, 0.3));\n",
              "      fill: #FFFFFF;\n",
              "    }\n",
              "  </style>\n",
              "\n",
              "      <script>\n",
              "        const buttonEl =\n",
              "          document.querySelector('#df-2767f1ea-7db6-42a2-995f-611b0e36d611 button.colab-df-convert');\n",
              "        buttonEl.style.display =\n",
              "          google.colab.kernel.accessAllowed ? 'block' : 'none';\n",
              "\n",
              "        async function convertToInteractive(key) {\n",
              "          const element = document.querySelector('#df-2767f1ea-7db6-42a2-995f-611b0e36d611');\n",
              "          const dataTable =\n",
              "            await google.colab.kernel.invokeFunction('convertToInteractive',\n",
              "                                                     [key], {});\n",
              "          if (!dataTable) return;\n",
              "\n",
              "          const docLinkHtml = 'Like what you see? Visit the ' +\n",
              "            '<a target=\"_blank\" href=https://colab.research.google.com/notebooks/data_table.ipynb>data table notebook</a>'\n",
              "            + ' to learn more about interactive tables.';\n",
              "          element.innerHTML = '';\n",
              "          dataTable['output_type'] = 'display_data';\n",
              "          await google.colab.output.renderOutput(dataTable, element);\n",
              "          const docLink = document.createElement('div');\n",
              "          docLink.innerHTML = docLinkHtml;\n",
              "          element.appendChild(docLink);\n",
              "        }\n",
              "      </script>\n",
              "    </div>\n",
              "  </div>\n",
              "  "
            ]
          },
          "metadata": {},
          "execution_count": 4
        }
      ],
      "source": [
        "dataset.head()"
      ],
      "id": "2c2a7b2b"
    },
    {
      "cell_type": "code",
      "execution_count": null,
      "metadata": {
        "id": "1279a5b8",
        "colab": {
          "base_uri": "https://localhost:8080/",
          "height": 279
        },
        "outputId": "c30357f0-e501-4953-ffa3-9b7e474b1df2"
      },
      "outputs": [
        {
          "output_type": "execute_result",
          "data": {
            "text/plain": [
              "            aes     wmo  temp    td    rh    ws  wg  wdir     pres   vis  ...  \\\n",
              "754607  8502580  718143  21.5  13.1  58.0  34.6 NaN   230  1009.00  19.5  ...   \n",
              "754608  8502592   71339  21.6   9.7  46.0  35.3 NaN   219  1015.50  16.1  ...   \n",
              "754609  8502801   71902  18.3  12.0  66.0  31.0 NaN   291  1006.40  17.7  ...   \n",
              "754610  8503249   71335  15.9  11.6  75.7  24.1 NaN   290  1008.65  17.2  ...   \n",
              "754611  8504175   71825  12.1  11.4  96.0   7.6 NaN   250  1013.70   9.7  ...   \n",
              "\n",
              "        rndays  sog  ffmc  dmc    dc   bui  isi  fwi  dsr  Fire/Not Fire  \n",
              "754607       0  0.0   NaN  NaN   NaN   NaN  NaN  NaN  NaN            NaN  \n",
              "754608       0  0.0  81.7  8.6  53.5  12.3  8.2  9.4  1.4            1.0  \n",
              "754609       0  0.0  67.1  4.9  28.4   6.8  2.7  2.1  0.1            0.0  \n",
              "754610       0  0.0   NaN  NaN   NaN   NaN  NaN  NaN  NaN            NaN  \n",
              "754611       0  0.0  10.4  3.1  63.4   5.6  0.0  0.0  0.0            0.0  \n",
              "\n",
              "[5 rows x 21 columns]"
            ],
            "text/html": [
              "\n",
              "  <div id=\"df-4275ff6d-51e7-4393-a71d-736b86f206b7\">\n",
              "    <div class=\"colab-df-container\">\n",
              "      <div>\n",
              "<style scoped>\n",
              "    .dataframe tbody tr th:only-of-type {\n",
              "        vertical-align: middle;\n",
              "    }\n",
              "\n",
              "    .dataframe tbody tr th {\n",
              "        vertical-align: top;\n",
              "    }\n",
              "\n",
              "    .dataframe thead th {\n",
              "        text-align: right;\n",
              "    }\n",
              "</style>\n",
              "<table border=\"1\" class=\"dataframe\">\n",
              "  <thead>\n",
              "    <tr style=\"text-align: right;\">\n",
              "      <th></th>\n",
              "      <th>aes</th>\n",
              "      <th>wmo</th>\n",
              "      <th>temp</th>\n",
              "      <th>td</th>\n",
              "      <th>rh</th>\n",
              "      <th>ws</th>\n",
              "      <th>wg</th>\n",
              "      <th>wdir</th>\n",
              "      <th>pres</th>\n",
              "      <th>vis</th>\n",
              "      <th>...</th>\n",
              "      <th>rndays</th>\n",
              "      <th>sog</th>\n",
              "      <th>ffmc</th>\n",
              "      <th>dmc</th>\n",
              "      <th>dc</th>\n",
              "      <th>bui</th>\n",
              "      <th>isi</th>\n",
              "      <th>fwi</th>\n",
              "      <th>dsr</th>\n",
              "      <th>Fire/Not Fire</th>\n",
              "    </tr>\n",
              "  </thead>\n",
              "  <tbody>\n",
              "    <tr>\n",
              "      <th>754607</th>\n",
              "      <td>8502580</td>\n",
              "      <td>718143</td>\n",
              "      <td>21.5</td>\n",
              "      <td>13.1</td>\n",
              "      <td>58.0</td>\n",
              "      <td>34.6</td>\n",
              "      <td>NaN</td>\n",
              "      <td>230</td>\n",
              "      <td>1009.00</td>\n",
              "      <td>19.5</td>\n",
              "      <td>...</td>\n",
              "      <td>0</td>\n",
              "      <td>0.0</td>\n",
              "      <td>NaN</td>\n",
              "      <td>NaN</td>\n",
              "      <td>NaN</td>\n",
              "      <td>NaN</td>\n",
              "      <td>NaN</td>\n",
              "      <td>NaN</td>\n",
              "      <td>NaN</td>\n",
              "      <td>NaN</td>\n",
              "    </tr>\n",
              "    <tr>\n",
              "      <th>754608</th>\n",
              "      <td>8502592</td>\n",
              "      <td>71339</td>\n",
              "      <td>21.6</td>\n",
              "      <td>9.7</td>\n",
              "      <td>46.0</td>\n",
              "      <td>35.3</td>\n",
              "      <td>NaN</td>\n",
              "      <td>219</td>\n",
              "      <td>1015.50</td>\n",
              "      <td>16.1</td>\n",
              "      <td>...</td>\n",
              "      <td>0</td>\n",
              "      <td>0.0</td>\n",
              "      <td>81.7</td>\n",
              "      <td>8.6</td>\n",
              "      <td>53.5</td>\n",
              "      <td>12.3</td>\n",
              "      <td>8.2</td>\n",
              "      <td>9.4</td>\n",
              "      <td>1.4</td>\n",
              "      <td>1.0</td>\n",
              "    </tr>\n",
              "    <tr>\n",
              "      <th>754609</th>\n",
              "      <td>8502801</td>\n",
              "      <td>71902</td>\n",
              "      <td>18.3</td>\n",
              "      <td>12.0</td>\n",
              "      <td>66.0</td>\n",
              "      <td>31.0</td>\n",
              "      <td>NaN</td>\n",
              "      <td>291</td>\n",
              "      <td>1006.40</td>\n",
              "      <td>17.7</td>\n",
              "      <td>...</td>\n",
              "      <td>0</td>\n",
              "      <td>0.0</td>\n",
              "      <td>67.1</td>\n",
              "      <td>4.9</td>\n",
              "      <td>28.4</td>\n",
              "      <td>6.8</td>\n",
              "      <td>2.7</td>\n",
              "      <td>2.1</td>\n",
              "      <td>0.1</td>\n",
              "      <td>0.0</td>\n",
              "    </tr>\n",
              "    <tr>\n",
              "      <th>754610</th>\n",
              "      <td>8503249</td>\n",
              "      <td>71335</td>\n",
              "      <td>15.9</td>\n",
              "      <td>11.6</td>\n",
              "      <td>75.7</td>\n",
              "      <td>24.1</td>\n",
              "      <td>NaN</td>\n",
              "      <td>290</td>\n",
              "      <td>1008.65</td>\n",
              "      <td>17.2</td>\n",
              "      <td>...</td>\n",
              "      <td>0</td>\n",
              "      <td>0.0</td>\n",
              "      <td>NaN</td>\n",
              "      <td>NaN</td>\n",
              "      <td>NaN</td>\n",
              "      <td>NaN</td>\n",
              "      <td>NaN</td>\n",
              "      <td>NaN</td>\n",
              "      <td>NaN</td>\n",
              "      <td>NaN</td>\n",
              "    </tr>\n",
              "    <tr>\n",
              "      <th>754611</th>\n",
              "      <td>8504175</td>\n",
              "      <td>71825</td>\n",
              "      <td>12.1</td>\n",
              "      <td>11.4</td>\n",
              "      <td>96.0</td>\n",
              "      <td>7.6</td>\n",
              "      <td>NaN</td>\n",
              "      <td>250</td>\n",
              "      <td>1013.70</td>\n",
              "      <td>9.7</td>\n",
              "      <td>...</td>\n",
              "      <td>0</td>\n",
              "      <td>0.0</td>\n",
              "      <td>10.4</td>\n",
              "      <td>3.1</td>\n",
              "      <td>63.4</td>\n",
              "      <td>5.6</td>\n",
              "      <td>0.0</td>\n",
              "      <td>0.0</td>\n",
              "      <td>0.0</td>\n",
              "      <td>0.0</td>\n",
              "    </tr>\n",
              "  </tbody>\n",
              "</table>\n",
              "<p>5 rows × 21 columns</p>\n",
              "</div>\n",
              "      <button class=\"colab-df-convert\" onclick=\"convertToInteractive('df-4275ff6d-51e7-4393-a71d-736b86f206b7')\"\n",
              "              title=\"Convert this dataframe to an interactive table.\"\n",
              "              style=\"display:none;\">\n",
              "        \n",
              "  <svg xmlns=\"http://www.w3.org/2000/svg\" height=\"24px\"viewBox=\"0 0 24 24\"\n",
              "       width=\"24px\">\n",
              "    <path d=\"M0 0h24v24H0V0z\" fill=\"none\"/>\n",
              "    <path d=\"M18.56 5.44l.94 2.06.94-2.06 2.06-.94-2.06-.94-.94-2.06-.94 2.06-2.06.94zm-11 1L8.5 8.5l.94-2.06 2.06-.94-2.06-.94L8.5 2.5l-.94 2.06-2.06.94zm10 10l.94 2.06.94-2.06 2.06-.94-2.06-.94-.94-2.06-.94 2.06-2.06.94z\"/><path d=\"M17.41 7.96l-1.37-1.37c-.4-.4-.92-.59-1.43-.59-.52 0-1.04.2-1.43.59L10.3 9.45l-7.72 7.72c-.78.78-.78 2.05 0 2.83L4 21.41c.39.39.9.59 1.41.59.51 0 1.02-.2 1.41-.59l7.78-7.78 2.81-2.81c.8-.78.8-2.07 0-2.86zM5.41 20L4 18.59l7.72-7.72 1.47 1.35L5.41 20z\"/>\n",
              "  </svg>\n",
              "      </button>\n",
              "      \n",
              "  <style>\n",
              "    .colab-df-container {\n",
              "      display:flex;\n",
              "      flex-wrap:wrap;\n",
              "      gap: 12px;\n",
              "    }\n",
              "\n",
              "    .colab-df-convert {\n",
              "      background-color: #E8F0FE;\n",
              "      border: none;\n",
              "      border-radius: 50%;\n",
              "      cursor: pointer;\n",
              "      display: none;\n",
              "      fill: #1967D2;\n",
              "      height: 32px;\n",
              "      padding: 0 0 0 0;\n",
              "      width: 32px;\n",
              "    }\n",
              "\n",
              "    .colab-df-convert:hover {\n",
              "      background-color: #E2EBFA;\n",
              "      box-shadow: 0px 1px 2px rgba(60, 64, 67, 0.3), 0px 1px 3px 1px rgba(60, 64, 67, 0.15);\n",
              "      fill: #174EA6;\n",
              "    }\n",
              "\n",
              "    [theme=dark] .colab-df-convert {\n",
              "      background-color: #3B4455;\n",
              "      fill: #D2E3FC;\n",
              "    }\n",
              "\n",
              "    [theme=dark] .colab-df-convert:hover {\n",
              "      background-color: #434B5C;\n",
              "      box-shadow: 0px 1px 3px 1px rgba(0, 0, 0, 0.15);\n",
              "      filter: drop-shadow(0px 1px 2px rgba(0, 0, 0, 0.3));\n",
              "      fill: #FFFFFF;\n",
              "    }\n",
              "  </style>\n",
              "\n",
              "      <script>\n",
              "        const buttonEl =\n",
              "          document.querySelector('#df-4275ff6d-51e7-4393-a71d-736b86f206b7 button.colab-df-convert');\n",
              "        buttonEl.style.display =\n",
              "          google.colab.kernel.accessAllowed ? 'block' : 'none';\n",
              "\n",
              "        async function convertToInteractive(key) {\n",
              "          const element = document.querySelector('#df-4275ff6d-51e7-4393-a71d-736b86f206b7');\n",
              "          const dataTable =\n",
              "            await google.colab.kernel.invokeFunction('convertToInteractive',\n",
              "                                                     [key], {});\n",
              "          if (!dataTable) return;\n",
              "\n",
              "          const docLinkHtml = 'Like what you see? Visit the ' +\n",
              "            '<a target=\"_blank\" href=https://colab.research.google.com/notebooks/data_table.ipynb>data table notebook</a>'\n",
              "            + ' to learn more about interactive tables.';\n",
              "          element.innerHTML = '';\n",
              "          dataTable['output_type'] = 'display_data';\n",
              "          await google.colab.output.renderOutput(dataTable, element);\n",
              "          const docLink = document.createElement('div');\n",
              "          docLink.innerHTML = docLinkHtml;\n",
              "          element.appendChild(docLink);\n",
              "        }\n",
              "      </script>\n",
              "    </div>\n",
              "  </div>\n",
              "  "
            ]
          },
          "metadata": {},
          "execution_count": 5
        }
      ],
      "source": [
        "dataset.tail()"
      ],
      "id": "1279a5b8"
    },
    {
      "cell_type": "code",
      "execution_count": null,
      "metadata": {
        "id": "d17c988e",
        "colab": {
          "base_uri": "https://localhost:8080/"
        },
        "outputId": "9c3b8158-c984-4da5-a76e-c0f427986ac7"
      },
      "outputs": [
        {
          "output_type": "execute_result",
          "data": {
            "text/plain": [
              "(754612, 21)"
            ]
          },
          "metadata": {},
          "execution_count": 6
        }
      ],
      "source": [
        "dataset.shape"
      ],
      "id": "d17c988e"
    },
    {
      "cell_type": "code",
      "execution_count": null,
      "metadata": {
        "id": "bfb61e02",
        "colab": {
          "base_uri": "https://localhost:8080/"
        },
        "outputId": "0d4b7146-d371-4a91-e1a0-ce3229ca0096"
      },
      "outputs": [
        {
          "output_type": "execute_result",
          "data": {
            "text/plain": [
              "aes               object\n",
              "wmo                int64\n",
              "temp             float64\n",
              "td               float64\n",
              "rh               float64\n",
              "ws               float64\n",
              "wg               float64\n",
              "wdir               int64\n",
              "pres             float64\n",
              "vis              float64\n",
              "precip           float64\n",
              "rndays             int64\n",
              "sog              float64\n",
              "ffmc             float64\n",
              "dmc              float64\n",
              "dc               float64\n",
              "bui              float64\n",
              "isi              float64\n",
              "fwi              float64\n",
              "dsr              float64\n",
              "Fire/Not Fire    float64\n",
              "dtype: object"
            ]
          },
          "metadata": {},
          "execution_count": 7
        }
      ],
      "source": [
        "dataset.dtypes"
      ],
      "id": "bfb61e02"
    },
    {
      "cell_type": "code",
      "execution_count": null,
      "metadata": {
        "id": "c9b57e1a",
        "colab": {
          "base_uri": "https://localhost:8080/"
        },
        "outputId": "b3804179-edaa-4753-8f2a-f75bcf675385"
      },
      "outputs": [
        {
          "output_type": "execute_result",
          "data": {
            "text/plain": [
              "aes              754612\n",
              "wmo              754612\n",
              "temp             754612\n",
              "td               753395\n",
              "rh               754297\n",
              "ws               754612\n",
              "wg               505324\n",
              "wdir             754612\n",
              "pres             754612\n",
              "vis              754612\n",
              "precip           754606\n",
              "rndays           754612\n",
              "sog              754211\n",
              "ffmc             356350\n",
              "dmc              356350\n",
              "dc               356350\n",
              "bui              331513\n",
              "isi              331513\n",
              "fwi              331511\n",
              "dsr              331513\n",
              "Fire/Not Fire    331171\n",
              "dtype: int64"
            ]
          },
          "metadata": {},
          "execution_count": 8
        }
      ],
      "source": [
        "dataset.count()"
      ],
      "id": "c9b57e1a"
    },
    {
      "cell_type": "code",
      "execution_count": null,
      "metadata": {
        "id": "0aed1166",
        "colab": {
          "base_uri": "https://localhost:8080/",
          "height": 382
        },
        "outputId": "7569770e-9b07-43db-b25d-2f25318a0914"
      },
      "outputs": [
        {
          "output_type": "execute_result",
          "data": {
            "text/plain": [
              "                 wmo           temp             td             rh  \\\n",
              "count  754612.000000  754612.000000  753395.000000  754297.000000   \n",
              "mean   124242.705284       4.312816      -2.683438      64.691775   \n",
              "std    176422.137155      14.341734      12.562019      20.058945   \n",
              "min     71001.000000     -53.600000     -55.400000     -77.400000   \n",
              "25%     71276.000000      -4.000000      -9.500000      50.000000   \n",
              "50%     71514.000000       5.700000      -1.200000      67.000000   \n",
              "75%     71793.000000      15.200000       6.500000      80.000000   \n",
              "max    719179.000000      43.500000      29.000000     100.000000   \n",
              "\n",
              "                  ws             wg           wdir           pres  \\\n",
              "count  754612.000000  505324.000000  754612.000000  754612.000000   \n",
              "mean       15.509444      21.874862     202.346402    1013.862838   \n",
              "std        10.295933      13.711197      99.249900      36.451693   \n",
              "min         0.000000       0.000000       0.000000       0.000000   \n",
              "25%         7.800000      11.400000     126.000000    1009.200000   \n",
              "50%        13.400000      19.200000     219.000000    1015.150000   \n",
              "75%        20.600000      29.600000     285.000000    1021.200000   \n",
              "max       149.900000     149.500000     360.000000    1067.400000   \n",
              "\n",
              "                 vis         precip         rndays            sog  \\\n",
              "count  754612.000000  754606.000000  754612.000000  754211.000000   \n",
              "mean       22.221685       2.045405       2.388090       6.866321   \n",
              "std        11.174547       6.864991      12.043255      16.885212   \n",
              "min         0.000000       0.000000       0.000000      -7.690000   \n",
              "25%        16.000000       0.000000       0.000000       0.000000   \n",
              "50%        20.700000       0.010000       1.000000       0.000000   \n",
              "75%        24.400000       1.200000       3.000000       2.000000   \n",
              "max        96.500000     497.500000     666.000000     236.000000   \n",
              "\n",
              "                ffmc            dmc             dc            bui  \\\n",
              "count  356350.000000  356350.000000  356350.000000  331513.000000   \n",
              "mean       71.858225      24.751470     234.138806      37.201989   \n",
              "std        21.487024      28.841217     198.661422      39.147795   \n",
              "min         0.000000       0.000000     -99.000000       0.000000   \n",
              "25%        61.100000       5.700000      67.500000       9.700000   \n",
              "50%        81.200000      15.200000     191.600000      24.500000   \n",
              "75%        87.500000      33.300000     354.475000      51.300000   \n",
              "max        98.900000     359.700000    1197.900000     380.700000   \n",
              "\n",
              "                 isi            fwi            dsr  Fire/Not Fire  \n",
              "count  331513.000000  331511.000000  331513.000000  331171.000000  \n",
              "mean        5.046056      10.537483       3.672935       0.501309  \n",
              "std         7.166045      13.979376       8.937813       0.499999  \n",
              "min         0.000000       0.000000       0.000000       0.000000  \n",
              "25%         0.900000       0.600000       0.000000       0.000000  \n",
              "50%         2.900000       5.300000       0.500000       1.000000  \n",
              "75%         6.700000      15.300000       3.400000       1.000000  \n",
              "max       363.800000     203.500000     331.600000       1.000000  "
            ],
            "text/html": [
              "\n",
              "  <div id=\"df-321cee17-e660-4472-b294-3f657ff66f34\">\n",
              "    <div class=\"colab-df-container\">\n",
              "      <div>\n",
              "<style scoped>\n",
              "    .dataframe tbody tr th:only-of-type {\n",
              "        vertical-align: middle;\n",
              "    }\n",
              "\n",
              "    .dataframe tbody tr th {\n",
              "        vertical-align: top;\n",
              "    }\n",
              "\n",
              "    .dataframe thead th {\n",
              "        text-align: right;\n",
              "    }\n",
              "</style>\n",
              "<table border=\"1\" class=\"dataframe\">\n",
              "  <thead>\n",
              "    <tr style=\"text-align: right;\">\n",
              "      <th></th>\n",
              "      <th>wmo</th>\n",
              "      <th>temp</th>\n",
              "      <th>td</th>\n",
              "      <th>rh</th>\n",
              "      <th>ws</th>\n",
              "      <th>wg</th>\n",
              "      <th>wdir</th>\n",
              "      <th>pres</th>\n",
              "      <th>vis</th>\n",
              "      <th>precip</th>\n",
              "      <th>rndays</th>\n",
              "      <th>sog</th>\n",
              "      <th>ffmc</th>\n",
              "      <th>dmc</th>\n",
              "      <th>dc</th>\n",
              "      <th>bui</th>\n",
              "      <th>isi</th>\n",
              "      <th>fwi</th>\n",
              "      <th>dsr</th>\n",
              "      <th>Fire/Not Fire</th>\n",
              "    </tr>\n",
              "  </thead>\n",
              "  <tbody>\n",
              "    <tr>\n",
              "      <th>count</th>\n",
              "      <td>754612.000000</td>\n",
              "      <td>754612.000000</td>\n",
              "      <td>753395.000000</td>\n",
              "      <td>754297.000000</td>\n",
              "      <td>754612.000000</td>\n",
              "      <td>505324.000000</td>\n",
              "      <td>754612.000000</td>\n",
              "      <td>754612.000000</td>\n",
              "      <td>754612.000000</td>\n",
              "      <td>754606.000000</td>\n",
              "      <td>754612.000000</td>\n",
              "      <td>754211.000000</td>\n",
              "      <td>356350.000000</td>\n",
              "      <td>356350.000000</td>\n",
              "      <td>356350.000000</td>\n",
              "      <td>331513.000000</td>\n",
              "      <td>331513.000000</td>\n",
              "      <td>331511.000000</td>\n",
              "      <td>331513.000000</td>\n",
              "      <td>331171.000000</td>\n",
              "    </tr>\n",
              "    <tr>\n",
              "      <th>mean</th>\n",
              "      <td>124242.705284</td>\n",
              "      <td>4.312816</td>\n",
              "      <td>-2.683438</td>\n",
              "      <td>64.691775</td>\n",
              "      <td>15.509444</td>\n",
              "      <td>21.874862</td>\n",
              "      <td>202.346402</td>\n",
              "      <td>1013.862838</td>\n",
              "      <td>22.221685</td>\n",
              "      <td>2.045405</td>\n",
              "      <td>2.388090</td>\n",
              "      <td>6.866321</td>\n",
              "      <td>71.858225</td>\n",
              "      <td>24.751470</td>\n",
              "      <td>234.138806</td>\n",
              "      <td>37.201989</td>\n",
              "      <td>5.046056</td>\n",
              "      <td>10.537483</td>\n",
              "      <td>3.672935</td>\n",
              "      <td>0.501309</td>\n",
              "    </tr>\n",
              "    <tr>\n",
              "      <th>std</th>\n",
              "      <td>176422.137155</td>\n",
              "      <td>14.341734</td>\n",
              "      <td>12.562019</td>\n",
              "      <td>20.058945</td>\n",
              "      <td>10.295933</td>\n",
              "      <td>13.711197</td>\n",
              "      <td>99.249900</td>\n",
              "      <td>36.451693</td>\n",
              "      <td>11.174547</td>\n",
              "      <td>6.864991</td>\n",
              "      <td>12.043255</td>\n",
              "      <td>16.885212</td>\n",
              "      <td>21.487024</td>\n",
              "      <td>28.841217</td>\n",
              "      <td>198.661422</td>\n",
              "      <td>39.147795</td>\n",
              "      <td>7.166045</td>\n",
              "      <td>13.979376</td>\n",
              "      <td>8.937813</td>\n",
              "      <td>0.499999</td>\n",
              "    </tr>\n",
              "    <tr>\n",
              "      <th>min</th>\n",
              "      <td>71001.000000</td>\n",
              "      <td>-53.600000</td>\n",
              "      <td>-55.400000</td>\n",
              "      <td>-77.400000</td>\n",
              "      <td>0.000000</td>\n",
              "      <td>0.000000</td>\n",
              "      <td>0.000000</td>\n",
              "      <td>0.000000</td>\n",
              "      <td>0.000000</td>\n",
              "      <td>0.000000</td>\n",
              "      <td>0.000000</td>\n",
              "      <td>-7.690000</td>\n",
              "      <td>0.000000</td>\n",
              "      <td>0.000000</td>\n",
              "      <td>-99.000000</td>\n",
              "      <td>0.000000</td>\n",
              "      <td>0.000000</td>\n",
              "      <td>0.000000</td>\n",
              "      <td>0.000000</td>\n",
              "      <td>0.000000</td>\n",
              "    </tr>\n",
              "    <tr>\n",
              "      <th>25%</th>\n",
              "      <td>71276.000000</td>\n",
              "      <td>-4.000000</td>\n",
              "      <td>-9.500000</td>\n",
              "      <td>50.000000</td>\n",
              "      <td>7.800000</td>\n",
              "      <td>11.400000</td>\n",
              "      <td>126.000000</td>\n",
              "      <td>1009.200000</td>\n",
              "      <td>16.000000</td>\n",
              "      <td>0.000000</td>\n",
              "      <td>0.000000</td>\n",
              "      <td>0.000000</td>\n",
              "      <td>61.100000</td>\n",
              "      <td>5.700000</td>\n",
              "      <td>67.500000</td>\n",
              "      <td>9.700000</td>\n",
              "      <td>0.900000</td>\n",
              "      <td>0.600000</td>\n",
              "      <td>0.000000</td>\n",
              "      <td>0.000000</td>\n",
              "    </tr>\n",
              "    <tr>\n",
              "      <th>50%</th>\n",
              "      <td>71514.000000</td>\n",
              "      <td>5.700000</td>\n",
              "      <td>-1.200000</td>\n",
              "      <td>67.000000</td>\n",
              "      <td>13.400000</td>\n",
              "      <td>19.200000</td>\n",
              "      <td>219.000000</td>\n",
              "      <td>1015.150000</td>\n",
              "      <td>20.700000</td>\n",
              "      <td>0.010000</td>\n",
              "      <td>1.000000</td>\n",
              "      <td>0.000000</td>\n",
              "      <td>81.200000</td>\n",
              "      <td>15.200000</td>\n",
              "      <td>191.600000</td>\n",
              "      <td>24.500000</td>\n",
              "      <td>2.900000</td>\n",
              "      <td>5.300000</td>\n",
              "      <td>0.500000</td>\n",
              "      <td>1.000000</td>\n",
              "    </tr>\n",
              "    <tr>\n",
              "      <th>75%</th>\n",
              "      <td>71793.000000</td>\n",
              "      <td>15.200000</td>\n",
              "      <td>6.500000</td>\n",
              "      <td>80.000000</td>\n",
              "      <td>20.600000</td>\n",
              "      <td>29.600000</td>\n",
              "      <td>285.000000</td>\n",
              "      <td>1021.200000</td>\n",
              "      <td>24.400000</td>\n",
              "      <td>1.200000</td>\n",
              "      <td>3.000000</td>\n",
              "      <td>2.000000</td>\n",
              "      <td>87.500000</td>\n",
              "      <td>33.300000</td>\n",
              "      <td>354.475000</td>\n",
              "      <td>51.300000</td>\n",
              "      <td>6.700000</td>\n",
              "      <td>15.300000</td>\n",
              "      <td>3.400000</td>\n",
              "      <td>1.000000</td>\n",
              "    </tr>\n",
              "    <tr>\n",
              "      <th>max</th>\n",
              "      <td>719179.000000</td>\n",
              "      <td>43.500000</td>\n",
              "      <td>29.000000</td>\n",
              "      <td>100.000000</td>\n",
              "      <td>149.900000</td>\n",
              "      <td>149.500000</td>\n",
              "      <td>360.000000</td>\n",
              "      <td>1067.400000</td>\n",
              "      <td>96.500000</td>\n",
              "      <td>497.500000</td>\n",
              "      <td>666.000000</td>\n",
              "      <td>236.000000</td>\n",
              "      <td>98.900000</td>\n",
              "      <td>359.700000</td>\n",
              "      <td>1197.900000</td>\n",
              "      <td>380.700000</td>\n",
              "      <td>363.800000</td>\n",
              "      <td>203.500000</td>\n",
              "      <td>331.600000</td>\n",
              "      <td>1.000000</td>\n",
              "    </tr>\n",
              "  </tbody>\n",
              "</table>\n",
              "</div>\n",
              "      <button class=\"colab-df-convert\" onclick=\"convertToInteractive('df-321cee17-e660-4472-b294-3f657ff66f34')\"\n",
              "              title=\"Convert this dataframe to an interactive table.\"\n",
              "              style=\"display:none;\">\n",
              "        \n",
              "  <svg xmlns=\"http://www.w3.org/2000/svg\" height=\"24px\"viewBox=\"0 0 24 24\"\n",
              "       width=\"24px\">\n",
              "    <path d=\"M0 0h24v24H0V0z\" fill=\"none\"/>\n",
              "    <path d=\"M18.56 5.44l.94 2.06.94-2.06 2.06-.94-2.06-.94-.94-2.06-.94 2.06-2.06.94zm-11 1L8.5 8.5l.94-2.06 2.06-.94-2.06-.94L8.5 2.5l-.94 2.06-2.06.94zm10 10l.94 2.06.94-2.06 2.06-.94-2.06-.94-.94-2.06-.94 2.06-2.06.94z\"/><path d=\"M17.41 7.96l-1.37-1.37c-.4-.4-.92-.59-1.43-.59-.52 0-1.04.2-1.43.59L10.3 9.45l-7.72 7.72c-.78.78-.78 2.05 0 2.83L4 21.41c.39.39.9.59 1.41.59.51 0 1.02-.2 1.41-.59l7.78-7.78 2.81-2.81c.8-.78.8-2.07 0-2.86zM5.41 20L4 18.59l7.72-7.72 1.47 1.35L5.41 20z\"/>\n",
              "  </svg>\n",
              "      </button>\n",
              "      \n",
              "  <style>\n",
              "    .colab-df-container {\n",
              "      display:flex;\n",
              "      flex-wrap:wrap;\n",
              "      gap: 12px;\n",
              "    }\n",
              "\n",
              "    .colab-df-convert {\n",
              "      background-color: #E8F0FE;\n",
              "      border: none;\n",
              "      border-radius: 50%;\n",
              "      cursor: pointer;\n",
              "      display: none;\n",
              "      fill: #1967D2;\n",
              "      height: 32px;\n",
              "      padding: 0 0 0 0;\n",
              "      width: 32px;\n",
              "    }\n",
              "\n",
              "    .colab-df-convert:hover {\n",
              "      background-color: #E2EBFA;\n",
              "      box-shadow: 0px 1px 2px rgba(60, 64, 67, 0.3), 0px 1px 3px 1px rgba(60, 64, 67, 0.15);\n",
              "      fill: #174EA6;\n",
              "    }\n",
              "\n",
              "    [theme=dark] .colab-df-convert {\n",
              "      background-color: #3B4455;\n",
              "      fill: #D2E3FC;\n",
              "    }\n",
              "\n",
              "    [theme=dark] .colab-df-convert:hover {\n",
              "      background-color: #434B5C;\n",
              "      box-shadow: 0px 1px 3px 1px rgba(0, 0, 0, 0.15);\n",
              "      filter: drop-shadow(0px 1px 2px rgba(0, 0, 0, 0.3));\n",
              "      fill: #FFFFFF;\n",
              "    }\n",
              "  </style>\n",
              "\n",
              "      <script>\n",
              "        const buttonEl =\n",
              "          document.querySelector('#df-321cee17-e660-4472-b294-3f657ff66f34 button.colab-df-convert');\n",
              "        buttonEl.style.display =\n",
              "          google.colab.kernel.accessAllowed ? 'block' : 'none';\n",
              "\n",
              "        async function convertToInteractive(key) {\n",
              "          const element = document.querySelector('#df-321cee17-e660-4472-b294-3f657ff66f34');\n",
              "          const dataTable =\n",
              "            await google.colab.kernel.invokeFunction('convertToInteractive',\n",
              "                                                     [key], {});\n",
              "          if (!dataTable) return;\n",
              "\n",
              "          const docLinkHtml = 'Like what you see? Visit the ' +\n",
              "            '<a target=\"_blank\" href=https://colab.research.google.com/notebooks/data_table.ipynb>data table notebook</a>'\n",
              "            + ' to learn more about interactive tables.';\n",
              "          element.innerHTML = '';\n",
              "          dataTable['output_type'] = 'display_data';\n",
              "          await google.colab.output.renderOutput(dataTable, element);\n",
              "          const docLink = document.createElement('div');\n",
              "          docLink.innerHTML = docLinkHtml;\n",
              "          element.appendChild(docLink);\n",
              "        }\n",
              "      </script>\n",
              "    </div>\n",
              "  </div>\n",
              "  "
            ]
          },
          "metadata": {},
          "execution_count": 9
        }
      ],
      "source": [
        "dataset.describe()"
      ],
      "id": "0aed1166"
    },
    {
      "cell_type": "code",
      "execution_count": null,
      "metadata": {
        "id": "264df2bf",
        "colab": {
          "base_uri": "https://localhost:8080/"
        },
        "outputId": "143176b7-a697-4786-d949-36e2bffa0336"
      },
      "outputs": [
        {
          "output_type": "stream",
          "name": "stdout",
          "text": [
            "<class 'pandas.core.frame.DataFrame'>\n",
            "RangeIndex: 754612 entries, 0 to 754611\n",
            "Data columns (total 21 columns):\n",
            " #   Column         Non-Null Count   Dtype  \n",
            "---  ------         --------------   -----  \n",
            " 0   aes            754612 non-null  object \n",
            " 1   wmo            754612 non-null  int64  \n",
            " 2   temp           754612 non-null  float64\n",
            " 3   td             753395 non-null  float64\n",
            " 4   rh             754297 non-null  float64\n",
            " 5   ws             754612 non-null  float64\n",
            " 6   wg             505324 non-null  float64\n",
            " 7   wdir           754612 non-null  int64  \n",
            " 8   pres           754612 non-null  float64\n",
            " 9   vis            754612 non-null  float64\n",
            " 10  precip         754606 non-null  float64\n",
            " 11  rndays         754612 non-null  int64  \n",
            " 12  sog            754211 non-null  float64\n",
            " 13  ffmc           356350 non-null  float64\n",
            " 14  dmc            356350 non-null  float64\n",
            " 15  dc             356350 non-null  float64\n",
            " 16  bui            331513 non-null  float64\n",
            " 17  isi            331513 non-null  float64\n",
            " 18  fwi            331511 non-null  float64\n",
            " 19  dsr            331513 non-null  float64\n",
            " 20  Fire/Not Fire  331171 non-null  float64\n",
            "dtypes: float64(17), int64(3), object(1)\n",
            "memory usage: 120.9+ MB\n"
          ]
        }
      ],
      "source": [
        "dataset.info()"
      ],
      "id": "264df2bf"
    },
    {
      "cell_type": "code",
      "execution_count": null,
      "metadata": {
        "id": "e01abfbe",
        "colab": {
          "base_uri": "https://localhost:8080/",
          "height": 485
        },
        "outputId": "3139959a-4a45-4148-922c-604ab988e224"
      },
      "outputs": [
        {
          "output_type": "execute_result",
          "data": {
            "text/plain": [
              "          aes    wmo   temp     td     rh     ws     wg   wdir   pres    vis  \\\n",
              "0       False  False  False  False  False  False  False  False  False  False   \n",
              "1       False  False  False  False  False  False  False  False  False  False   \n",
              "2       False  False  False  False  False  False   True  False  False  False   \n",
              "3       False  False  False  False  False  False  False  False  False  False   \n",
              "4       False  False  False  False  False  False  False  False  False  False   \n",
              "...       ...    ...    ...    ...    ...    ...    ...    ...    ...    ...   \n",
              "754607  False  False  False  False  False  False   True  False  False  False   \n",
              "754608  False  False  False  False  False  False   True  False  False  False   \n",
              "754609  False  False  False  False  False  False   True  False  False  False   \n",
              "754610  False  False  False  False  False  False   True  False  False  False   \n",
              "754611  False  False  False  False  False  False   True  False  False  False   \n",
              "\n",
              "        ...  rndays    sog   ffmc    dmc     dc    bui    isi    fwi    dsr  \\\n",
              "0       ...   False  False  False  False  False  False  False  False  False   \n",
              "1       ...   False  False  False  False  False  False  False  False  False   \n",
              "2       ...   False  False   True   True   True   True   True   True   True   \n",
              "3       ...   False  False  False  False  False  False  False  False  False   \n",
              "4       ...   False  False  False  False  False  False  False  False  False   \n",
              "...     ...     ...    ...    ...    ...    ...    ...    ...    ...    ...   \n",
              "754607  ...   False  False   True   True   True   True   True   True   True   \n",
              "754608  ...   False  False  False  False  False  False  False  False  False   \n",
              "754609  ...   False  False  False  False  False  False  False  False  False   \n",
              "754610  ...   False  False   True   True   True   True   True   True   True   \n",
              "754611  ...   False  False  False  False  False  False  False  False  False   \n",
              "\n",
              "        Fire/Not Fire  \n",
              "0               False  \n",
              "1               False  \n",
              "2                True  \n",
              "3               False  \n",
              "4               False  \n",
              "...               ...  \n",
              "754607           True  \n",
              "754608          False  \n",
              "754609          False  \n",
              "754610           True  \n",
              "754611          False  \n",
              "\n",
              "[754612 rows x 21 columns]"
            ],
            "text/html": [
              "\n",
              "  <div id=\"df-d9d53599-b403-4c02-acc8-57c1c3f8ecfb\">\n",
              "    <div class=\"colab-df-container\">\n",
              "      <div>\n",
              "<style scoped>\n",
              "    .dataframe tbody tr th:only-of-type {\n",
              "        vertical-align: middle;\n",
              "    }\n",
              "\n",
              "    .dataframe tbody tr th {\n",
              "        vertical-align: top;\n",
              "    }\n",
              "\n",
              "    .dataframe thead th {\n",
              "        text-align: right;\n",
              "    }\n",
              "</style>\n",
              "<table border=\"1\" class=\"dataframe\">\n",
              "  <thead>\n",
              "    <tr style=\"text-align: right;\">\n",
              "      <th></th>\n",
              "      <th>aes</th>\n",
              "      <th>wmo</th>\n",
              "      <th>temp</th>\n",
              "      <th>td</th>\n",
              "      <th>rh</th>\n",
              "      <th>ws</th>\n",
              "      <th>wg</th>\n",
              "      <th>wdir</th>\n",
              "      <th>pres</th>\n",
              "      <th>vis</th>\n",
              "      <th>...</th>\n",
              "      <th>rndays</th>\n",
              "      <th>sog</th>\n",
              "      <th>ffmc</th>\n",
              "      <th>dmc</th>\n",
              "      <th>dc</th>\n",
              "      <th>bui</th>\n",
              "      <th>isi</th>\n",
              "      <th>fwi</th>\n",
              "      <th>dsr</th>\n",
              "      <th>Fire/Not Fire</th>\n",
              "    </tr>\n",
              "  </thead>\n",
              "  <tbody>\n",
              "    <tr>\n",
              "      <th>0</th>\n",
              "      <td>False</td>\n",
              "      <td>False</td>\n",
              "      <td>False</td>\n",
              "      <td>False</td>\n",
              "      <td>False</td>\n",
              "      <td>False</td>\n",
              "      <td>False</td>\n",
              "      <td>False</td>\n",
              "      <td>False</td>\n",
              "      <td>False</td>\n",
              "      <td>...</td>\n",
              "      <td>False</td>\n",
              "      <td>False</td>\n",
              "      <td>False</td>\n",
              "      <td>False</td>\n",
              "      <td>False</td>\n",
              "      <td>False</td>\n",
              "      <td>False</td>\n",
              "      <td>False</td>\n",
              "      <td>False</td>\n",
              "      <td>False</td>\n",
              "    </tr>\n",
              "    <tr>\n",
              "      <th>1</th>\n",
              "      <td>False</td>\n",
              "      <td>False</td>\n",
              "      <td>False</td>\n",
              "      <td>False</td>\n",
              "      <td>False</td>\n",
              "      <td>False</td>\n",
              "      <td>False</td>\n",
              "      <td>False</td>\n",
              "      <td>False</td>\n",
              "      <td>False</td>\n",
              "      <td>...</td>\n",
              "      <td>False</td>\n",
              "      <td>False</td>\n",
              "      <td>False</td>\n",
              "      <td>False</td>\n",
              "      <td>False</td>\n",
              "      <td>False</td>\n",
              "      <td>False</td>\n",
              "      <td>False</td>\n",
              "      <td>False</td>\n",
              "      <td>False</td>\n",
              "    </tr>\n",
              "    <tr>\n",
              "      <th>2</th>\n",
              "      <td>False</td>\n",
              "      <td>False</td>\n",
              "      <td>False</td>\n",
              "      <td>False</td>\n",
              "      <td>False</td>\n",
              "      <td>False</td>\n",
              "      <td>True</td>\n",
              "      <td>False</td>\n",
              "      <td>False</td>\n",
              "      <td>False</td>\n",
              "      <td>...</td>\n",
              "      <td>False</td>\n",
              "      <td>False</td>\n",
              "      <td>True</td>\n",
              "      <td>True</td>\n",
              "      <td>True</td>\n",
              "      <td>True</td>\n",
              "      <td>True</td>\n",
              "      <td>True</td>\n",
              "      <td>True</td>\n",
              "      <td>True</td>\n",
              "    </tr>\n",
              "    <tr>\n",
              "      <th>3</th>\n",
              "      <td>False</td>\n",
              "      <td>False</td>\n",
              "      <td>False</td>\n",
              "      <td>False</td>\n",
              "      <td>False</td>\n",
              "      <td>False</td>\n",
              "      <td>False</td>\n",
              "      <td>False</td>\n",
              "      <td>False</td>\n",
              "      <td>False</td>\n",
              "      <td>...</td>\n",
              "      <td>False</td>\n",
              "      <td>False</td>\n",
              "      <td>False</td>\n",
              "      <td>False</td>\n",
              "      <td>False</td>\n",
              "      <td>False</td>\n",
              "      <td>False</td>\n",
              "      <td>False</td>\n",
              "      <td>False</td>\n",
              "      <td>False</td>\n",
              "    </tr>\n",
              "    <tr>\n",
              "      <th>4</th>\n",
              "      <td>False</td>\n",
              "      <td>False</td>\n",
              "      <td>False</td>\n",
              "      <td>False</td>\n",
              "      <td>False</td>\n",
              "      <td>False</td>\n",
              "      <td>False</td>\n",
              "      <td>False</td>\n",
              "      <td>False</td>\n",
              "      <td>False</td>\n",
              "      <td>...</td>\n",
              "      <td>False</td>\n",
              "      <td>False</td>\n",
              "      <td>False</td>\n",
              "      <td>False</td>\n",
              "      <td>False</td>\n",
              "      <td>False</td>\n",
              "      <td>False</td>\n",
              "      <td>False</td>\n",
              "      <td>False</td>\n",
              "      <td>False</td>\n",
              "    </tr>\n",
              "    <tr>\n",
              "      <th>...</th>\n",
              "      <td>...</td>\n",
              "      <td>...</td>\n",
              "      <td>...</td>\n",
              "      <td>...</td>\n",
              "      <td>...</td>\n",
              "      <td>...</td>\n",
              "      <td>...</td>\n",
              "      <td>...</td>\n",
              "      <td>...</td>\n",
              "      <td>...</td>\n",
              "      <td>...</td>\n",
              "      <td>...</td>\n",
              "      <td>...</td>\n",
              "      <td>...</td>\n",
              "      <td>...</td>\n",
              "      <td>...</td>\n",
              "      <td>...</td>\n",
              "      <td>...</td>\n",
              "      <td>...</td>\n",
              "      <td>...</td>\n",
              "      <td>...</td>\n",
              "    </tr>\n",
              "    <tr>\n",
              "      <th>754607</th>\n",
              "      <td>False</td>\n",
              "      <td>False</td>\n",
              "      <td>False</td>\n",
              "      <td>False</td>\n",
              "      <td>False</td>\n",
              "      <td>False</td>\n",
              "      <td>True</td>\n",
              "      <td>False</td>\n",
              "      <td>False</td>\n",
              "      <td>False</td>\n",
              "      <td>...</td>\n",
              "      <td>False</td>\n",
              "      <td>False</td>\n",
              "      <td>True</td>\n",
              "      <td>True</td>\n",
              "      <td>True</td>\n",
              "      <td>True</td>\n",
              "      <td>True</td>\n",
              "      <td>True</td>\n",
              "      <td>True</td>\n",
              "      <td>True</td>\n",
              "    </tr>\n",
              "    <tr>\n",
              "      <th>754608</th>\n",
              "      <td>False</td>\n",
              "      <td>False</td>\n",
              "      <td>False</td>\n",
              "      <td>False</td>\n",
              "      <td>False</td>\n",
              "      <td>False</td>\n",
              "      <td>True</td>\n",
              "      <td>False</td>\n",
              "      <td>False</td>\n",
              "      <td>False</td>\n",
              "      <td>...</td>\n",
              "      <td>False</td>\n",
              "      <td>False</td>\n",
              "      <td>False</td>\n",
              "      <td>False</td>\n",
              "      <td>False</td>\n",
              "      <td>False</td>\n",
              "      <td>False</td>\n",
              "      <td>False</td>\n",
              "      <td>False</td>\n",
              "      <td>False</td>\n",
              "    </tr>\n",
              "    <tr>\n",
              "      <th>754609</th>\n",
              "      <td>False</td>\n",
              "      <td>False</td>\n",
              "      <td>False</td>\n",
              "      <td>False</td>\n",
              "      <td>False</td>\n",
              "      <td>False</td>\n",
              "      <td>True</td>\n",
              "      <td>False</td>\n",
              "      <td>False</td>\n",
              "      <td>False</td>\n",
              "      <td>...</td>\n",
              "      <td>False</td>\n",
              "      <td>False</td>\n",
              "      <td>False</td>\n",
              "      <td>False</td>\n",
              "      <td>False</td>\n",
              "      <td>False</td>\n",
              "      <td>False</td>\n",
              "      <td>False</td>\n",
              "      <td>False</td>\n",
              "      <td>False</td>\n",
              "    </tr>\n",
              "    <tr>\n",
              "      <th>754610</th>\n",
              "      <td>False</td>\n",
              "      <td>False</td>\n",
              "      <td>False</td>\n",
              "      <td>False</td>\n",
              "      <td>False</td>\n",
              "      <td>False</td>\n",
              "      <td>True</td>\n",
              "      <td>False</td>\n",
              "      <td>False</td>\n",
              "      <td>False</td>\n",
              "      <td>...</td>\n",
              "      <td>False</td>\n",
              "      <td>False</td>\n",
              "      <td>True</td>\n",
              "      <td>True</td>\n",
              "      <td>True</td>\n",
              "      <td>True</td>\n",
              "      <td>True</td>\n",
              "      <td>True</td>\n",
              "      <td>True</td>\n",
              "      <td>True</td>\n",
              "    </tr>\n",
              "    <tr>\n",
              "      <th>754611</th>\n",
              "      <td>False</td>\n",
              "      <td>False</td>\n",
              "      <td>False</td>\n",
              "      <td>False</td>\n",
              "      <td>False</td>\n",
              "      <td>False</td>\n",
              "      <td>True</td>\n",
              "      <td>False</td>\n",
              "      <td>False</td>\n",
              "      <td>False</td>\n",
              "      <td>...</td>\n",
              "      <td>False</td>\n",
              "      <td>False</td>\n",
              "      <td>False</td>\n",
              "      <td>False</td>\n",
              "      <td>False</td>\n",
              "      <td>False</td>\n",
              "      <td>False</td>\n",
              "      <td>False</td>\n",
              "      <td>False</td>\n",
              "      <td>False</td>\n",
              "    </tr>\n",
              "  </tbody>\n",
              "</table>\n",
              "<p>754612 rows × 21 columns</p>\n",
              "</div>\n",
              "      <button class=\"colab-df-convert\" onclick=\"convertToInteractive('df-d9d53599-b403-4c02-acc8-57c1c3f8ecfb')\"\n",
              "              title=\"Convert this dataframe to an interactive table.\"\n",
              "              style=\"display:none;\">\n",
              "        \n",
              "  <svg xmlns=\"http://www.w3.org/2000/svg\" height=\"24px\"viewBox=\"0 0 24 24\"\n",
              "       width=\"24px\">\n",
              "    <path d=\"M0 0h24v24H0V0z\" fill=\"none\"/>\n",
              "    <path d=\"M18.56 5.44l.94 2.06.94-2.06 2.06-.94-2.06-.94-.94-2.06-.94 2.06-2.06.94zm-11 1L8.5 8.5l.94-2.06 2.06-.94-2.06-.94L8.5 2.5l-.94 2.06-2.06.94zm10 10l.94 2.06.94-2.06 2.06-.94-2.06-.94-.94-2.06-.94 2.06-2.06.94z\"/><path d=\"M17.41 7.96l-1.37-1.37c-.4-.4-.92-.59-1.43-.59-.52 0-1.04.2-1.43.59L10.3 9.45l-7.72 7.72c-.78.78-.78 2.05 0 2.83L4 21.41c.39.39.9.59 1.41.59.51 0 1.02-.2 1.41-.59l7.78-7.78 2.81-2.81c.8-.78.8-2.07 0-2.86zM5.41 20L4 18.59l7.72-7.72 1.47 1.35L5.41 20z\"/>\n",
              "  </svg>\n",
              "      </button>\n",
              "      \n",
              "  <style>\n",
              "    .colab-df-container {\n",
              "      display:flex;\n",
              "      flex-wrap:wrap;\n",
              "      gap: 12px;\n",
              "    }\n",
              "\n",
              "    .colab-df-convert {\n",
              "      background-color: #E8F0FE;\n",
              "      border: none;\n",
              "      border-radius: 50%;\n",
              "      cursor: pointer;\n",
              "      display: none;\n",
              "      fill: #1967D2;\n",
              "      height: 32px;\n",
              "      padding: 0 0 0 0;\n",
              "      width: 32px;\n",
              "    }\n",
              "\n",
              "    .colab-df-convert:hover {\n",
              "      background-color: #E2EBFA;\n",
              "      box-shadow: 0px 1px 2px rgba(60, 64, 67, 0.3), 0px 1px 3px 1px rgba(60, 64, 67, 0.15);\n",
              "      fill: #174EA6;\n",
              "    }\n",
              "\n",
              "    [theme=dark] .colab-df-convert {\n",
              "      background-color: #3B4455;\n",
              "      fill: #D2E3FC;\n",
              "    }\n",
              "\n",
              "    [theme=dark] .colab-df-convert:hover {\n",
              "      background-color: #434B5C;\n",
              "      box-shadow: 0px 1px 3px 1px rgba(0, 0, 0, 0.15);\n",
              "      filter: drop-shadow(0px 1px 2px rgba(0, 0, 0, 0.3));\n",
              "      fill: #FFFFFF;\n",
              "    }\n",
              "  </style>\n",
              "\n",
              "      <script>\n",
              "        const buttonEl =\n",
              "          document.querySelector('#df-d9d53599-b403-4c02-acc8-57c1c3f8ecfb button.colab-df-convert');\n",
              "        buttonEl.style.display =\n",
              "          google.colab.kernel.accessAllowed ? 'block' : 'none';\n",
              "\n",
              "        async function convertToInteractive(key) {\n",
              "          const element = document.querySelector('#df-d9d53599-b403-4c02-acc8-57c1c3f8ecfb');\n",
              "          const dataTable =\n",
              "            await google.colab.kernel.invokeFunction('convertToInteractive',\n",
              "                                                     [key], {});\n",
              "          if (!dataTable) return;\n",
              "\n",
              "          const docLinkHtml = 'Like what you see? Visit the ' +\n",
              "            '<a target=\"_blank\" href=https://colab.research.google.com/notebooks/data_table.ipynb>data table notebook</a>'\n",
              "            + ' to learn more about interactive tables.';\n",
              "          element.innerHTML = '';\n",
              "          dataTable['output_type'] = 'display_data';\n",
              "          await google.colab.output.renderOutput(dataTable, element);\n",
              "          const docLink = document.createElement('div');\n",
              "          docLink.innerHTML = docLinkHtml;\n",
              "          element.appendChild(docLink);\n",
              "        }\n",
              "      </script>\n",
              "    </div>\n",
              "  </div>\n",
              "  "
            ]
          },
          "metadata": {},
          "execution_count": 11
        }
      ],
      "source": [
        "dataset.isna()"
      ],
      "id": "e01abfbe"
    },
    {
      "cell_type": "code",
      "execution_count": null,
      "metadata": {
        "id": "cb395d8c"
      },
      "outputs": [],
      "source": [
        "# **Data Visualization**"
      ],
      "id": "cb395d8c"
    },
    {
      "cell_type": "code",
      "execution_count": null,
      "metadata": {
        "id": "852ac6b7",
        "colab": {
          "base_uri": "https://localhost:8080/",
          "height": 799
        },
        "outputId": "ca293197-a629-4548-8414-aa7186f7c891"
      },
      "outputs": [
        {
          "output_type": "stream",
          "name": "stdout",
          "text": [
            "Looking in indexes: https://pypi.org/simple, https://us-python.pkg.dev/colab-wheels/public/simple/\n",
            "Requirement already satisfied: missingno in /usr/local/lib/python3.7/dist-packages (0.5.1)\n",
            "Requirement already satisfied: scipy in /usr/local/lib/python3.7/dist-packages (from missingno) (1.7.3)\n",
            "Requirement already satisfied: numpy in /usr/local/lib/python3.7/dist-packages (from missingno) (1.21.6)\n",
            "Requirement already satisfied: seaborn in /usr/local/lib/python3.7/dist-packages (from missingno) (0.11.2)\n",
            "Requirement already satisfied: matplotlib in /usr/local/lib/python3.7/dist-packages (from missingno) (3.2.2)\n",
            "Requirement already satisfied: pyparsing!=2.0.4,!=2.1.2,!=2.1.6,>=2.0.1 in /usr/local/lib/python3.7/dist-packages (from matplotlib->missingno) (3.0.9)\n",
            "Requirement already satisfied: python-dateutil>=2.1 in /usr/local/lib/python3.7/dist-packages (from matplotlib->missingno) (2.8.2)\n",
            "Requirement already satisfied: kiwisolver>=1.0.1 in /usr/local/lib/python3.7/dist-packages (from matplotlib->missingno) (1.4.4)\n",
            "Requirement already satisfied: cycler>=0.10 in /usr/local/lib/python3.7/dist-packages (from matplotlib->missingno) (0.11.0)\n",
            "Requirement already satisfied: typing-extensions in /usr/local/lib/python3.7/dist-packages (from kiwisolver>=1.0.1->matplotlib->missingno) (4.1.1)\n",
            "Requirement already satisfied: six>=1.5 in /usr/local/lib/python3.7/dist-packages (from python-dateutil>=2.1->matplotlib->missingno) (1.15.0)\n",
            "Requirement already satisfied: pandas>=0.23 in /usr/local/lib/python3.7/dist-packages (from seaborn->missingno) (1.3.5)\n",
            "Requirement already satisfied: pytz>=2017.3 in /usr/local/lib/python3.7/dist-packages (from pandas>=0.23->seaborn->missingno) (2022.4)\n"
          ]
        },
        {
          "output_type": "display_data",
          "data": {
            "text/plain": [
              "<Figure size 1800x720 with 3 Axes>"
            ],
            "image/png": "[encoded data removed]"
          },
          "metadata": {
            "needs_background": "light"
          }
        }
      ],
      "source": [
        "get_ipython().system('pip install missingno')\n",
        "import missingno as msno\n",
        "msno.bar(dataset,color='pink')\n",
        "plt.show()"
      ],
      "id": "852ac6b7"
    },
    {
      "cell_type": "code",
      "execution_count": null,
      "metadata": {
        "id": "dcfeeede"
      },
      "outputs": [],
      "source": [
        "# Finding the locations of the missing value"
      ],
      "id": "dcfeeede"
    },
    {
      "cell_type": "code",
      "execution_count": null,
      "metadata": {
        "id": "ef84ded9",
        "colab": {
          "base_uri": "https://localhost:8080/",
          "height": 500
        },
        "outputId": "5882253a-03d6-41cd-e2e5-e7ab173b1b3d"
      },
      "outputs": [
        {
          "output_type": "display_data",
          "data": {
            "text/plain": [
              "<Figure size 1800x720 with 2 Axes>"
            ],
            "image/png": "[encoded data removed]"
          },
          "metadata": {
            "needs_background": "light"
          }
        }
      ],
      "source": [
        "msno.matrix(dataset)\n",
        "plt.show()"
      ],
      "id": "ef84ded9"
    },
    {
      "cell_type": "code",
      "execution_count": null,
      "metadata": {
        "id": "b012777e"
      },
      "outputs": [],
      "source": [
        "##calculating the percentage of missing values in each column"
      ],
      "id": "b012777e"
    },
    {
      "cell_type": "code",
      "execution_count": null,
      "metadata": {
        "id": "e0f473c8",
        "colab": {
          "base_uri": "https://localhost:8080/"
        },
        "outputId": "de69b353-fb9b-419f-d419-d9af9734f8f0"
      },
      "outputs": [
        {
          "output_type": "execute_result",
          "data": {
            "text/plain": [
              "aes              0.000000\n",
              "wmo              0.000000\n",
              "temp             0.000000\n",
              "td               0.001613\n",
              "rh               0.000417\n",
              "ws               0.000000\n",
              "wg               0.330353\n",
              "wdir             0.000000\n",
              "pres             0.000000\n",
              "vis              0.000000\n",
              "precip           0.000008\n",
              "rndays           0.000000\n",
              "sog              0.000531\n",
              "ffmc             0.527771\n",
              "dmc              0.527771\n",
              "dc               0.527771\n",
              "bui              0.560684\n",
              "isi              0.560684\n",
              "fwi              0.560687\n",
              "dsr              0.560684\n",
              "Fire/Not Fire    0.561137\n",
              "dtype: float64"
            ]
          },
          "metadata": {},
          "execution_count": 17
        }
      ],
      "source": [
        "dataset.isna().sum()/dataset.shape[0]"
      ],
      "id": "e0f473c8"
    },
    {
      "cell_type": "code",
      "execution_count": null,
      "metadata": {
        "id": "a4f96016"
      },
      "outputs": [],
      "source": [
        "# **Dropping rows and columns corresponding to missing values**"
      ],
      "id": "a4f96016"
    },
    {
      "cell_type": "code",
      "execution_count": null,
      "metadata": {
        "id": "489bae59",
        "colab": {
          "base_uri": "https://localhost:8080/"
        },
        "outputId": "34d0709e-0c33-413f-bb88-6645c0bca0df"
      },
      "outputs": [
        {
          "output_type": "stream",
          "name": "stdout",
          "text": [
            "            aes     wmo  temp    td    rh    ws    wg  wdir     pres   vis  \\\n",
            "0       1012475   71031   9.5   8.6  94.0   8.6  23.2   261  1007.70  24.5   \n",
            "1       1012710   71798  10.2   6.2  76.0  35.8  45.7   252  1007.80  24.7   \n",
            "2       1014820   71774   9.4   5.5  76.9  23.4   NaN   255  1006.60  39.6   \n",
            "3       1015630   71927  11.6   4.4  61.0  12.0  24.1   257  1007.00  39.8   \n",
            "4       1016640   71778   9.2   6.9  85.0  45.0  54.0   259  1008.80  26.6   \n",
            "...         ...     ...   ...   ...   ...   ...   ...   ...      ...   ...   \n",
            "754607  8502580  718143  21.5  13.1  58.0  34.6   NaN   230  1009.00  19.5   \n",
            "754608  8502592   71339  21.6   9.7  46.0  35.3   NaN   219  1015.50  16.1   \n",
            "754609  8502801   71902  18.3  12.0  66.0  31.0   NaN   291  1006.40  17.7   \n",
            "754610  8503249   71335  15.9  11.6  75.7  24.1   NaN   290  1008.65  17.2   \n",
            "754611  8504175   71825  12.1  11.4  96.0   7.6   NaN   250  1013.70   9.7   \n",
            "\n",
            "        ...  rndays  sog  ffmc  dmc    dc   bui  isi  fwi  dsr  Fire/Not Fire  \n",
            "0       ...       0  0.0   8.9  0.1  85.6   0.1  0.0  0.0  0.0            0.0  \n",
            "1       ...       0  0.0  35.6  0.3   1.5   0.4  0.1  0.0  0.0            0.0  \n",
            "2       ...       0  0.0   NaN  NaN   NaN   NaN  NaN  NaN  NaN            NaN  \n",
            "3       ...       0  0.0  36.9  0.5   1.8   0.6  0.0  0.0  0.0            0.0  \n",
            "4       ...       0  0.0  28.8  0.2   1.4   0.2  0.0  0.0  0.0            0.0  \n",
            "...     ...     ...  ...   ...  ...   ...   ...  ...  ...  ...            ...  \n",
            "754607  ...       0  0.0   NaN  NaN   NaN   NaN  NaN  NaN  NaN            NaN  \n",
            "754608  ...       0  0.0  81.7  8.6  53.5  12.3  8.2  9.4  1.4            1.0  \n",
            "754609  ...       0  0.0  67.1  4.9  28.4   6.8  2.7  2.1  0.1            0.0  \n",
            "754610  ...       0  0.0   NaN  NaN   NaN   NaN  NaN  NaN  NaN            NaN  \n",
            "754611  ...       0  0.0  10.4  3.1  63.4   5.6  0.0  0.0  0.0            0.0  \n",
            "\n",
            "[754612 rows x 21 columns]\n"
          ]
        }
      ],
      "source": [
        "print(dataset)"
      ],
      "id": "489bae59"
    },
    {
      "cell_type": "code",
      "execution_count": null,
      "metadata": {
        "id": "210992e0"
      },
      "outputs": [],
      "source": [
        "##dropping columns with high percentage of missing values"
      ],
      "id": "210992e0"
    },
    {
      "cell_type": "code",
      "execution_count": null,
      "metadata": {
        "id": "9397dc51"
      },
      "outputs": [],
      "source": [
        "df=dataset.drop(columns=['aes','ffmc','dmc','dc','bui','isi','fwi','dsr','wmo'])"
      ],
      "id": "9397dc51"
    },
    {
      "cell_type": "code",
      "execution_count": null,
      "metadata": {
        "id": "6e1f9968"
      },
      "outputs": [],
      "source": [
        "##dropping the rows for missing dependent variables"
      ],
      "id": "6e1f9968"
    },
    {
      "cell_type": "code",
      "execution_count": null,
      "metadata": {
        "id": "6537c241",
        "colab": {
          "base_uri": "https://localhost:8080/"
        },
        "outputId": "19d2ba4f-f7f2-43b1-8ba4-cf37390c845a"
      },
      "outputs": [
        {
          "output_type": "stream",
          "name": "stdout",
          "text": [
            "        temp    td    rh    ws    wg  wdir    pres   vis  precip  rndays  sog  \\\n",
            "0        9.5   8.6  94.0   8.6  23.2   261  1007.7  24.5   20.52       0  0.0   \n",
            "1       10.2   6.2  76.0  35.8  45.7   252  1007.8  24.7   23.80       0  0.0   \n",
            "3       11.6   4.4  61.0  12.0  24.1   257  1007.0  39.8    6.20       0  0.0   \n",
            "4        9.2   6.9  85.0  45.0  54.0   259  1008.8  26.6   21.42       0  0.0   \n",
            "6       12.8   5.7  62.0  19.4  24.3   215  1007.4  28.2    6.00       0  0.0   \n",
            "...      ...   ...   ...   ...   ...   ...     ...   ...     ...     ...  ...   \n",
            "754605  16.9  12.4  75.0  21.7   NaN   219  1013.1  24.1    3.00       0  0.0   \n",
            "754606  20.6  13.9  66.0  29.1   NaN   239  1007.1  19.0    3.80       0  0.0   \n",
            "754608  21.6   9.7  46.0  35.3   NaN   219  1015.5  16.1    0.50       0  0.0   \n",
            "754609  18.3  12.0  66.0  31.0   NaN   291  1006.4  17.7    4.61       0  0.0   \n",
            "754611  12.1  11.4  96.0   7.6   NaN   250  1013.7   9.7   11.10       0  0.0   \n",
            "\n",
            "        Fire/Not Fire  \n",
            "0                 0.0  \n",
            "1                 0.0  \n",
            "3                 0.0  \n",
            "4                 0.0  \n",
            "6                 0.0  \n",
            "...               ...  \n",
            "754605            0.0  \n",
            "754606            0.0  \n",
            "754608            1.0  \n",
            "754609            0.0  \n",
            "754611            0.0  \n",
            "\n",
            "[331171 rows x 12 columns]\n"
          ]
        }
      ],
      "source": [
        "df.dropna(subset=[\"Fire/Not Fire\"],axis=0, inplace=True)\n",
        "print(df)"
      ],
      "id": "6537c241"
    },
    {
      "cell_type": "code",
      "execution_count": null,
      "metadata": {
        "id": "be1905b0",
        "colab": {
          "base_uri": "https://localhost:8080/"
        },
        "outputId": "d7e49d15-8daa-4a9a-d267-03d34bc6a11a"
      },
      "outputs": [
        {
          "output_type": "execute_result",
          "data": {
            "text/plain": [
              "temp             331171\n",
              "td               331023\n",
              "rh               331128\n",
              "ws               331171\n",
              "wg               231642\n",
              "wdir             331171\n",
              "pres             331171\n",
              "vis              331171\n",
              "precip           331165\n",
              "rndays           331171\n",
              "sog              330813\n",
              "Fire/Not Fire    331171\n",
              "dtype: int64"
            ]
          },
          "metadata": {},
          "execution_count": 24
        }
      ],
      "source": [
        "df.count()"
      ],
      "id": "be1905b0"
    },
    {
      "cell_type": "code",
      "execution_count": null,
      "metadata": {
        "id": "9f51e8de"
      },
      "outputs": [],
      "source": [
        "x=df.iloc[:,:-1].values\n",
        "y=df.iloc[:,-1].values"
      ],
      "id": "9f51e8de"
    },
    {
      "cell_type": "code",
      "execution_count": null,
      "metadata": {
        "id": "20a43fee"
      },
      "outputs": [],
      "source": [
        "##calculating the skewness of each row to check what kind of imputation to consider "
      ],
      "id": "20a43fee"
    },
    {
      "cell_type": "code",
      "execution_count": null,
      "metadata": {
        "id": "3a48ac9d",
        "colab": {
          "base_uri": "https://localhost:8080/"
        },
        "outputId": "b1c74c1e-3546-4576-f386-350dd7622001"
      },
      "outputs": [
        {
          "output_type": "execute_result",
          "data": {
            "text/plain": [
              "temp              -0.191087\n",
              "td                -0.319334\n",
              "rh                 0.063509\n",
              "ws                 1.304666\n",
              "wg                 1.100895\n",
              "wdir              -0.359293\n",
              "pres             -44.164837\n",
              "vis                2.122527\n",
              "precip             9.345478\n",
              "rndays            47.560751\n",
              "sog              281.729884\n",
              "Fire/Not Fire     -0.005236\n",
              "dtype: float64"
            ]
          },
          "metadata": {},
          "execution_count": 27
        }
      ],
      "source": [
        "from scipy.stats import skew\n",
        "df.skew(axis = 0, skipna = True)"
      ],
      "id": "3a48ac9d"
    },
    {
      "cell_type": "code",
      "execution_count": null,
      "metadata": {
        "id": "f4d2cb72"
      },
      "outputs": [],
      "source": [
        "# **Imputation using mean for the missing data**"
      ],
      "id": "f4d2cb72"
    },
    {
      "cell_type": "code",
      "execution_count": null,
      "metadata": {
        "id": "235c983a"
      },
      "outputs": [],
      "source": [
        "from sklearn.impute import SimpleImputer\n",
        "imputer=SimpleImputer(missing_values=np.nan,strategy='mean')\n",
        "imputer.fit(x)\n",
        "x=imputer.transform(x)"
      ],
      "id": "235c983a"
    },
    {
      "cell_type": "code",
      "execution_count": null,
      "metadata": {
        "id": "cf8446ae"
      },
      "outputs": [],
      "source": [
        "# Transform the dataset containing missing values"
      ],
      "id": "cf8446ae"
    },
    {
      "cell_type": "code",
      "execution_count": null,
      "metadata": {
        "id": "c8d5f2d1",
        "colab": {
          "base_uri": "https://localhost:8080/"
        },
        "outputId": "aac9f669-ccdc-4f91-e846-450f2a256988"
      },
      "outputs": [
        {
          "output_type": "execute_result",
          "data": {
            "text/plain": [
              "temp      331171\n",
              "td        331171\n",
              "rh        331171\n",
              "ws        331171\n",
              "wg        331171\n",
              "wdir      331171\n",
              "pres      331171\n",
              "vis       331171\n",
              "precip    331171\n",
              "rndays    331171\n",
              "sog       331171\n",
              "dtype: int64"
            ]
          },
          "metadata": {},
          "execution_count": 31
        }
      ],
      "source": [
        "x=pd.DataFrame(x,columns=[\"temp\",\"td\",\"rh\",\"ws\",\"wg\",\"wdir\",\"pres\",\"vis\",\"precip\",\"rndays\",\"sog\"])\n",
        "x.count()"
      ],
      "id": "c8d5f2d1"
    },
    {
      "cell_type": "code",
      "execution_count": null,
      "metadata": {
        "id": "5229c28f",
        "colab": {
          "base_uri": "https://localhost:8080/"
        },
        "outputId": "7f08612d-a30b-4022-850f-ef0f15bac1e9"
      },
      "outputs": [
        {
          "output_type": "stream",
          "name": "stdout",
          "text": [
            "        temp    td    rh    ws         wg   wdir    pres   vis  precip  \\\n",
            "0        9.5   8.6  94.0   8.6  23.200000  261.0  1007.7  24.5   20.52   \n",
            "1       10.2   6.2  76.0  35.8  45.700000  252.0  1007.8  24.7   23.80   \n",
            "2       11.6   4.4  61.0  12.0  24.100000  257.0  1007.0  39.8    6.20   \n",
            "3        9.2   6.9  85.0  45.0  54.000000  259.0  1008.8  26.6   21.42   \n",
            "4       12.8   5.7  62.0  19.4  24.300000  215.0  1007.4  28.2    6.00   \n",
            "...      ...   ...   ...   ...        ...    ...     ...   ...     ...   \n",
            "331166  16.9  12.4  75.0  21.7  22.107321  219.0  1013.1  24.1    3.00   \n",
            "331167  20.6  13.9  66.0  29.1  22.107321  239.0  1007.1  19.0    3.80   \n",
            "331168  21.6   9.7  46.0  35.3  22.107321  219.0  1015.5  16.1    0.50   \n",
            "331169  18.3  12.0  66.0  31.0  22.107321  291.0  1006.4  17.7    4.61   \n",
            "331170  12.1  11.4  96.0   7.6  22.107321  250.0  1013.7   9.7   11.10   \n",
            "\n",
            "        rndays  sog  \n",
            "0          0.0  0.0  \n",
            "1          0.0  0.0  \n",
            "2          0.0  0.0  \n",
            "3          0.0  0.0  \n",
            "4          0.0  0.0  \n",
            "...        ...  ...  \n",
            "331166     0.0  0.0  \n",
            "331167     0.0  0.0  \n",
            "331168     0.0  0.0  \n",
            "331169     0.0  0.0  \n",
            "331170     0.0  0.0  \n",
            "\n",
            "[331171 rows x 11 columns]\n"
          ]
        }
      ],
      "source": [
        "print(x)"
      ],
      "id": "5229c28f"
    },
    {
      "cell_type": "code",
      "execution_count": null,
      "metadata": {
        "id": "fb003b39",
        "colab": {
          "base_uri": "https://localhost:8080/"
        },
        "outputId": "b2af4e8f-93be-4220-f761-f20eb9f4a26c"
      },
      "outputs": [
        {
          "output_type": "execute_result",
          "data": {
            "text/plain": [
              "Fire/Not Fire    331171\n",
              "dtype: int64"
            ]
          },
          "metadata": {},
          "execution_count": 33
        }
      ],
      "source": [
        "y=pd.DataFrame(y,columns=[\"Fire/Not Fire\"])\n",
        "y.count()"
      ],
      "id": "fb003b39"
    },
    {
      "cell_type": "code",
      "execution_count": null,
      "metadata": {
        "id": "fdc51274",
        "colab": {
          "base_uri": "https://localhost:8080/"
        },
        "outputId": "256a591c-acc6-4916-aba6-75286a80775a"
      },
      "outputs": [
        {
          "output_type": "stream",
          "name": "stdout",
          "text": [
            "        temp    td    rh    ws         wg   wdir    pres   vis  precip  \\\n",
            "0        9.5   8.6  94.0   8.6  23.200000  261.0  1007.7  24.5   20.52   \n",
            "1       10.2   6.2  76.0  35.8  45.700000  252.0  1007.8  24.7   23.80   \n",
            "2       11.6   4.4  61.0  12.0  24.100000  257.0  1007.0  39.8    6.20   \n",
            "3        9.2   6.9  85.0  45.0  54.000000  259.0  1008.8  26.6   21.42   \n",
            "4       12.8   5.7  62.0  19.4  24.300000  215.0  1007.4  28.2    6.00   \n",
            "...      ...   ...   ...   ...        ...    ...     ...   ...     ...   \n",
            "331166  16.9  12.4  75.0  21.7  22.107321  219.0  1013.1  24.1    3.00   \n",
            "331167  20.6  13.9  66.0  29.1  22.107321  239.0  1007.1  19.0    3.80   \n",
            "331168  21.6   9.7  46.0  35.3  22.107321  219.0  1015.5  16.1    0.50   \n",
            "331169  18.3  12.0  66.0  31.0  22.107321  291.0  1006.4  17.7    4.61   \n",
            "331170  12.1  11.4  96.0   7.6  22.107321  250.0  1013.7   9.7   11.10   \n",
            "\n",
            "        rndays  sog  Fire/Not Fire  \n",
            "0          0.0  0.0            0.0  \n",
            "1          0.0  0.0            0.0  \n",
            "2          0.0  0.0            0.0  \n",
            "3          0.0  0.0            0.0  \n",
            "4          0.0  0.0            0.0  \n",
            "...        ...  ...            ...  \n",
            "331166     0.0  0.0            0.0  \n",
            "331167     0.0  0.0            0.0  \n",
            "331168     0.0  0.0            1.0  \n",
            "331169     0.0  0.0            0.0  \n",
            "331170     0.0  0.0            0.0  \n",
            "\n",
            "[331171 rows x 12 columns]\n"
          ]
        }
      ],
      "source": [
        "df1 = pd.concat([x,y], axis=1)\n",
        "print(df1)"
      ],
      "id": "fdc51274"
    },
    {
      "cell_type": "code",
      "execution_count": null,
      "metadata": {
        "id": "25d126d6"
      },
      "outputs": [],
      "source": [
        "# Preprocessing of Data"
      ],
      "id": "25d126d6"
    },
    {
      "cell_type": "code",
      "execution_count": null,
      "metadata": {
        "id": "84d403f8",
        "colab": {
          "base_uri": "https://localhost:8080/"
        },
        "outputId": "49105e1c-bab6-41a3-903e-6adf6bce09ad"
      },
      "outputs": [
        {
          "output_type": "stream",
          "name": "stdout",
          "text": [
            "        temp    td    rh    ws         wg   wdir    pres   vis  precip  \\\n",
            "0        9.5   8.6  94.0   8.6  23.200000  261.0  1007.7  24.5   20.52   \n",
            "1       10.2   6.2  76.0  35.8  45.700000  252.0  1007.8  24.7   23.80   \n",
            "2       11.6   4.4  61.0  12.0  24.100000  257.0  1007.0  39.8    6.20   \n",
            "3        9.2   6.9  85.0  45.0  54.000000  259.0  1008.8  26.6   21.42   \n",
            "4       12.8   5.7  62.0  19.4  24.300000  215.0  1007.4  28.2    6.00   \n",
            "...      ...   ...   ...   ...        ...    ...     ...   ...     ...   \n",
            "331166  16.9  12.4  75.0  21.7  22.107321  219.0  1013.1  24.1    3.00   \n",
            "331167  20.6  13.9  66.0  29.1  22.107321  239.0  1007.1  19.0    3.80   \n",
            "331168  21.6   9.7  46.0  35.3  22.107321  219.0  1015.5  16.1    0.50   \n",
            "331169  18.3  12.0  66.0  31.0  22.107321  291.0  1006.4  17.7    4.61   \n",
            "331170  12.1  11.4  96.0   7.6  22.107321  250.0  1013.7   9.7   11.10   \n",
            "\n",
            "        rndays  sog  \n",
            "0          0.0  0.0  \n",
            "1          0.0  0.0  \n",
            "2          0.0  0.0  \n",
            "3          0.0  0.0  \n",
            "4          0.0  0.0  \n",
            "...        ...  ...  \n",
            "331166     0.0  0.0  \n",
            "331167     0.0  0.0  \n",
            "331168     0.0  0.0  \n",
            "331169     0.0  0.0  \n",
            "331170     0.0  0.0  \n",
            "\n",
            "[331171 rows x 11 columns]\n",
            "        Fire/Not Fire\n",
            "0                 0.0\n",
            "1                 0.0\n",
            "2                 0.0\n",
            "3                 0.0\n",
            "4                 0.0\n",
            "...               ...\n",
            "331166            0.0\n",
            "331167            0.0\n",
            "331168            1.0\n",
            "331169            0.0\n",
            "331170            0.0\n",
            "\n",
            "[331171 rows x 1 columns]\n"
          ]
        }
      ],
      "source": [
        "print(x)\n",
        "print(y)"
      ],
      "id": "84d403f8"
    },
    {
      "cell_type": "code",
      "execution_count": null,
      "metadata": {
        "id": "b26f0416"
      },
      "outputs": [],
      "source": [
        "# **VISUALIZATION OF THE CLEAN DATA**\n",
        "\n",
        "# **Bar Plot**"
      ],
      "id": "b26f0416"
    },
    {
      "cell_type": "code",
      "execution_count": null,
      "metadata": {
        "id": "5730c1ba",
        "colab": {
          "base_uri": "https://localhost:8080/",
          "height": 295
        },
        "outputId": "b4185a6e-363e-4724-e9fe-80b69947854d"
      },
      "outputs": [
        {
          "output_type": "display_data",
          "data": {
            "text/plain": [
              "<Figure size 432x288 with 1 Axes>"
            ],
            "image/png": "[encoded data removed]"
          },
          "metadata": {
            "needs_background": "light"
          }
        }
      ],
      "source": [
        "sns.countplot(x='Fire/Not Fire',data=df)\n",
        "plt.xlabel('Fire Detection')\n",
        "plt.ylabel('Number of Observations')\n",
        "plt.title('Bar Chart for Fire Detection')\n",
        "plt.show()"
      ],
      "id": "5730c1ba"
    },
    {
      "cell_type": "code",
      "execution_count": null,
      "metadata": {
        "id": "df17e81f"
      },
      "outputs": [],
      "source": [
        "# **PIE-CHART**"
      ],
      "id": "df17e81f"
    },
    {
      "cell_type": "code",
      "execution_count": null,
      "metadata": {
        "id": "cc9d8138",
        "colab": {
          "base_uri": "https://localhost:8080/",
          "height": 273
        },
        "outputId": "f4612ecc-d41d-442c-8aed-615203e3015e"
      },
      "outputs": [
        {
          "output_type": "display_data",
          "data": {
            "text/plain": [
              "<Figure size 432x288 with 1 Axes>"
            ],
            "image/png": "[encoded data removed]"
          },
          "metadata": {}
        }
      ],
      "source": [
        "import matplotlib.pyplot as plt\n",
        "values=df1['Fire/Not Fire'].value_counts()\n",
        "labels=['Fire','No-Fire']\n",
        "plt.pie(values,labels=labels,radius = 1,explode = (0.1, 0),shadow=True,startangle=120,autopct='%1.1f%%') \n",
        "plt.title('Forest Fire Detection',fontsize=25)\n",
        "plt.legend()\n",
        "plt.show()"
      ],
      "id": "cc9d8138"
    },
    {
      "cell_type": "code",
      "execution_count": null,
      "metadata": {
        "id": "c1bdad9f"
      },
      "outputs": [],
      "source": [
        "# **Correlation Heatmap**"
      ],
      "id": "c1bdad9f"
    },
    {
      "cell_type": "code",
      "execution_count": null,
      "metadata": {
        "id": "eb2325a7",
        "colab": {
          "base_uri": "https://localhost:8080/",
          "height": 447
        },
        "outputId": "3db36811-8700-4b52-cfa1-0f9a40a6608a"
      },
      "outputs": [
        {
          "output_type": "display_data",
          "data": {
            "text/plain": [
              "<Figure size 1152x432 with 2 Axes>"
            ],
            "image/png": "[encoded data removed]"
          },
          "metadata": {
            "needs_background": "light"
          }
        }
      ],
      "source": [
        "plt.figure(figsize=(16, 6))\n",
        "heatmap = sns.heatmap(dataset.corr(), vmin=-1, vmax=1, annot=False)\n",
        "heatmap.set_title('Correlation Heatmap', fontdict={'fontsize':13}, pad=13)\n",
        "plt.show()"
      ],
      "id": "eb2325a7"
    },
    {
      "cell_type": "code",
      "execution_count": null,
      "metadata": {
        "id": "ca8ae11d"
      },
      "outputs": [],
      "source": [
        "# **Splitting the Dataset**"
      ],
      "id": "ca8ae11d"
    },
    {
      "cell_type": "code",
      "execution_count": null,
      "metadata": {
        "id": "5fd1a1c3"
      },
      "outputs": [],
      "source": [
        "from sklearn.model_selection import train_test_split\n",
        "x_train,x_test,y_train,y_test=train_test_split(x,y,test_size=0.25,random_state=5)"
      ],
      "id": "5fd1a1c3"
    },
    {
      "cell_type": "code",
      "execution_count": null,
      "metadata": {
        "id": "006aed7b",
        "colab": {
          "base_uri": "https://localhost:8080/"
        },
        "outputId": "c66db113-1494-47a3-a53c-e7ed68c92bd9"
      },
      "outputs": [
        {
          "output_type": "stream",
          "name": "stdout",
          "text": [
            "        temp    td    rh    ws         wg   wdir     pres   vis  precip  \\\n",
            "95299   21.0  17.0  78.0  18.5  18.500000  200.0  1008.20  14.5    0.50   \n",
            "204139  26.0  21.0  74.0  20.4  37.000000  210.0  1015.80  48.3   11.38   \n",
            "67006   21.5  12.0  54.8  14.8  19.500000  270.0  1017.10  19.2    0.00   \n",
            "41357    7.0   2.0  70.8  22.2  22.200000   90.0  1014.90  24.1   15.97   \n",
            "297587  -1.5  -6.4  70.1  13.0  22.107321  324.0  1027.19  19.3    3.88   \n",
            "...      ...   ...   ...   ...        ...    ...      ...   ...     ...   \n",
            "232422  16.1   8.7  61.9   5.9  22.107321  149.0  1015.34  20.2    0.40   \n",
            "124605  16.0   7.0  55.4  22.2  22.200000  280.0  1016.00  24.1    6.81   \n",
            "20463   13.0   9.0  76.9  31.5  48.200000  200.0  1017.40  24.1    0.00   \n",
            "18638   17.0   3.3  40.0   5.5  22.107321  158.0  1019.40  14.6    0.00   \n",
            "297827  14.0   4.0  51.0   3.6  22.107321  353.0  1014.90  16.1    1.20   \n",
            "\n",
            "        rndays  sog  \n",
            "95299      0.0  0.0  \n",
            "204139     0.0  0.0  \n",
            "67006      5.0  0.0  \n",
            "41357      0.0  0.0  \n",
            "297587     0.0  0.0  \n",
            "...        ...  ...  \n",
            "232422     0.0  0.0  \n",
            "124605     0.0  0.0  \n",
            "20463      4.0  0.0  \n",
            "18638      1.0  0.0  \n",
            "297827     0.0  0.0  \n",
            "\n",
            "[248378 rows x 11 columns]\n",
            "        temp    td     rh    ws         wg   wdir     pres   vis  precip  \\\n",
            "133403  12.1   5.8   65.0   8.2  17.600000  254.0  1021.50  24.2    0.00   \n",
            "325531  12.9   6.8   66.0  12.9  20.700000  277.0  1024.50  48.3    0.80   \n",
            "117025   3.9  -2.2   64.0   6.5  14.000000   17.0  1022.20  23.5    0.00   \n",
            "188447  22.9   9.9   44.0   7.2  16.300000   46.0  1014.20  23.1    0.00   \n",
            "206953  17.0  14.4   85.0   9.2  22.107321  103.0  1021.86   5.0    0.00   \n",
            "...      ...   ...    ...   ...        ...    ...      ...   ...     ...   \n",
            "161093  19.7   4.1   35.0  11.2  22.107321  305.0  1021.20  16.1    0.00   \n",
            "220394  27.6   9.4   32.0   4.9  22.107321  327.0  1016.94  13.6    0.00   \n",
            "20286   12.6  11.9   95.0  16.8  24.800000   98.0  1017.00   8.4   40.10   \n",
            "138973   8.9   8.9  100.0   7.9  10.200000  140.0  1012.10   0.6   17.73   \n",
            "170066  10.0   2.5   59.0  30.1  36.700000  343.0  1018.60  26.9    0.00   \n",
            "\n",
            "        rndays  sog  \n",
            "133403     6.0  0.0  \n",
            "325531     0.0  0.0  \n",
            "117025     1.0  0.0  \n",
            "188447     4.0  0.0  \n",
            "206953     6.0  0.0  \n",
            "...        ...  ...  \n",
            "161093     3.0  0.0  \n",
            "220394     1.0  0.0  \n",
            "20286      0.0  0.0  \n",
            "138973     0.0  0.0  \n",
            "170066     1.0  0.0  \n",
            "\n",
            "[82793 rows x 11 columns]\n",
            "        Fire/Not Fire\n",
            "95299             1.0\n",
            "204139            0.0\n",
            "67006             1.0\n",
            "41357             0.0\n",
            "297587            0.0\n",
            "...               ...\n",
            "232422            0.0\n",
            "124605            0.0\n",
            "20463             1.0\n",
            "18638             0.0\n",
            "297827            0.0\n",
            "\n",
            "[248378 rows x 1 columns]\n",
            "        Fire/Not Fire\n",
            "133403            0.0\n",
            "325531            0.0\n",
            "117025            0.0\n",
            "188447            1.0\n",
            "206953            1.0\n",
            "...               ...\n",
            "161093            1.0\n",
            "220394            1.0\n",
            "20286             0.0\n",
            "138973            0.0\n",
            "170066            1.0\n",
            "\n",
            "[82793 rows x 1 columns]\n"
          ]
        }
      ],
      "source": [
        "print(x_train)\n",
        "print(x_test)\n",
        "print(y_train)\n",
        "print(y_test)"
      ],
      "id": "006aed7b"
    },
    {
      "cell_type": "code",
      "execution_count": null,
      "metadata": {
        "id": "45ac0c4d"
      },
      "outputs": [],
      "source": [
        "# **Feature Scaling of the independent variables** "
      ],
      "id": "45ac0c4d"
    },
    {
      "cell_type": "code",
      "execution_count": null,
      "metadata": {
        "id": "d9075f94"
      },
      "outputs": [],
      "source": [
        "from sklearn.preprocessing import StandardScaler\n",
        "sc=StandardScaler()\n",
        "x_train=sc.fit_transform(x_train)\n",
        "x_test=sc.transform(x_test)"
      ],
      "id": "d9075f94"
    },
    {
      "cell_type": "code",
      "execution_count": null,
      "metadata": {
        "id": "4cb2f73e",
        "colab": {
          "base_uri": "https://localhost:8080/"
        },
        "outputId": "779f2d96-ebba-4455-8f7a-aada55986d95"
      },
      "outputs": [
        {
          "output_type": "stream",
          "name": "stderr",
          "text": [
            "/usr/local/lib/python3.7/dist-packages/ipykernel_launcher.py:3: DataConversionWarning: A column-vector y was passed when a 1d array was expected. Please change the shape of y to (n_samples,), for example using ravel().\n",
            "  This is separate from the ipykernel package so we can avoid doing imports until\n"
          ]
        },
        {
          "output_type": "execute_result",
          "data": {
            "text/plain": [
              "RandomForestClassifier(random_state=0)"
            ]
          },
          "metadata": {},
          "execution_count": 48
        }
      ],
      "source": [
        "from sklearn.ensemble import RandomForestClassifier\n",
        "rf = RandomForestClassifier(random_state=0)\n",
        "rf.fit(x_train,y_train)"
      ],
      "id": "4cb2f73e"
    },
    {
      "cell_type": "code",
      "execution_count": null,
      "metadata": {
        "id": "d1a4de7f"
      },
      "outputs": [],
      "source": [
        "z=['temp','td','rh','ws','wg','wdir','pres','vis','precip','rndays','sog']"
      ],
      "id": "d1a4de7f"
    },
    {
      "cell_type": "code",
      "execution_count": null,
      "metadata": {
        "id": "72821f1f",
        "colab": {
          "base_uri": "https://localhost:8080/",
          "height": 265
        },
        "outputId": "7aa6dbbd-722f-4822-965d-cceb36693f8c"
      },
      "outputs": [
        {
          "output_type": "display_data",
          "data": {
            "text/plain": [
              "<Figure size 432x288 with 1 Axes>"
            ],
            "image/png": "[encoded data removed]"
          },
          "metadata": {
            "needs_background": "light"
          }
        }
      ],
      "source": [
        "f_i = list(zip(z,rf.feature_importances_))\n",
        "f_i.sort(key = lambda x : x[1])\n",
        "plt.barh([x[0] for x in f_i],[x[1] for x in f_i])\n",
        "\n",
        "plt.show()"
      ],
      "id": "72821f1f"
    },
    {
      "cell_type": "code",
      "execution_count": null,
      "metadata": {
        "id": "75f778a2",
        "colab": {
          "base_uri": "https://localhost:8080/"
        },
        "outputId": "4237cf4e-cf56-4055-ed3f-57df67ebcbe2"
      },
      "outputs": [
        {
          "output_type": "execute_result",
          "data": {
            "text/plain": [
              "array([1.13998099e-01, 5.98361890e-02, 2.18255793e-01, 7.64261939e-02,\n",
              "       5.05860754e-02, 5.32783028e-02, 6.00630363e-02, 4.98083823e-02,\n",
              "       1.77541199e-01, 1.40000222e-01, 2.06507622e-04])"
            ]
          },
          "metadata": {},
          "execution_count": 51
        }
      ],
      "source": [
        "rf.feature_importances_"
      ],
      "id": "75f778a2"
    },
    {
      "cell_type": "code",
      "execution_count": null,
      "metadata": {
        "id": "df3dc5bd",
        "colab": {
          "base_uri": "https://localhost:8080/"
        },
        "outputId": "6621d758-63e2-4526-8d5a-583d05a3206c"
      },
      "outputs": [
        {
          "output_type": "execute_result",
          "data": {
            "text/plain": [
              "(248378, 11)"
            ]
          },
          "metadata": {},
          "execution_count": 52
        }
      ],
      "source": [
        "x_train.shape"
      ],
      "id": "df3dc5bd"
    },
    {
      "cell_type": "code",
      "execution_count": null,
      "metadata": {
        "id": "179eaf9c",
        "colab": {
          "base_uri": "https://localhost:8080/",
          "height": 373
        },
        "outputId": "6f48da39-3eed-4c12-9053-2d316989349f"
      },
      "outputs": [
        {
          "output_type": "error",
          "ename": "IndexError",
          "evalue": "ignored",
          "traceback": [
            "\u001b[0;31m---------------------------------------------------------------------------\u001b[0m",
            "\u001b[0;31mIndexError\u001b[0m                                Traceback (most recent call last)",
            "\u001b[0;32m<ipython-input-53-5e6bc967c69e>\u001b[0m in \u001b[0;36m<module>\u001b[0;34m\u001b[0m\n\u001b[1;32m      1\u001b[0m \u001b[0;32mfor\u001b[0m \u001b[0mi\u001b[0m \u001b[0;32min\u001b[0m \u001b[0mrange\u001b[0m\u001b[0;34m(\u001b[0m\u001b[0;36m11\u001b[0m\u001b[0;34m)\u001b[0m\u001b[0;34m:\u001b[0m\u001b[0;34m\u001b[0m\u001b[0;34m\u001b[0m\u001b[0m\n\u001b[1;32m      2\u001b[0m     \u001b[0;32mif\u001b[0m \u001b[0mrf\u001b[0m\u001b[0;34m.\u001b[0m\u001b[0mfeature_importances_\u001b[0m\u001b[0;34m[\u001b[0m\u001b[0mi\u001b[0m\u001b[0;34m]\u001b[0m\u001b[0;34m<\u001b[0m\u001b[0;36m0.05\u001b[0m\u001b[0;34m:\u001b[0m\u001b[0;34m\u001b[0m\u001b[0;34m\u001b[0m\u001b[0m\n\u001b[0;32m----> 3\u001b[0;31m         \u001b[0mx_train\u001b[0m\u001b[0;34m=\u001b[0m\u001b[0mnp\u001b[0m\u001b[0;34m.\u001b[0m\u001b[0mdelete\u001b[0m\u001b[0;34m(\u001b[0m\u001b[0mx_train\u001b[0m\u001b[0;34m,\u001b[0m\u001b[0mi\u001b[0m\u001b[0;34m,\u001b[0m\u001b[0;36m1\u001b[0m\u001b[0;34m)\u001b[0m\u001b[0;34m\u001b[0m\u001b[0;34m\u001b[0m\u001b[0m\n\u001b[0m\u001b[1;32m      4\u001b[0m         \u001b[0mx_test\u001b[0m\u001b[0;34m=\u001b[0m\u001b[0mnp\u001b[0m\u001b[0;34m.\u001b[0m\u001b[0mdelete\u001b[0m\u001b[0;34m(\u001b[0m\u001b[0mx_test\u001b[0m\u001b[0;34m,\u001b[0m\u001b[0mi\u001b[0m\u001b[0;34m,\u001b[0m\u001b[0;36m1\u001b[0m\u001b[0;34m)\u001b[0m\u001b[0;34m\u001b[0m\u001b[0;34m\u001b[0m\u001b[0m\n",
            "\u001b[0;32m<__array_function__ internals>\u001b[0m in \u001b[0;36mdelete\u001b[0;34m(*args, **kwargs)\u001b[0m\n",
            "\u001b[0;32m/usr/local/lib/python3.7/dist-packages/numpy/lib/function_base.py\u001b[0m in \u001b[0;36mdelete\u001b[0;34m(arr, obj, axis)\u001b[0m\n\u001b[1;32m   4523\u001b[0m             raise IndexError(\n\u001b[1;32m   4524\u001b[0m                 \u001b[0;34m\"index %i is out of bounds for axis %i with \"\u001b[0m\u001b[0;34m\u001b[0m\u001b[0;34m\u001b[0m\u001b[0m\n\u001b[0;32m-> 4525\u001b[0;31m                 \"size %i\" % (obj, axis, N))\n\u001b[0m\u001b[1;32m   4526\u001b[0m         \u001b[0;32mif\u001b[0m \u001b[0;34m(\u001b[0m\u001b[0mobj\u001b[0m \u001b[0;34m<\u001b[0m \u001b[0;36m0\u001b[0m\u001b[0;34m)\u001b[0m\u001b[0;34m:\u001b[0m\u001b[0;34m\u001b[0m\u001b[0;34m\u001b[0m\u001b[0m\n\u001b[1;32m   4527\u001b[0m             \u001b[0mobj\u001b[0m \u001b[0;34m+=\u001b[0m \u001b[0mN\u001b[0m\u001b[0;34m\u001b[0m\u001b[0;34m\u001b[0m\u001b[0m\n",
            "\u001b[0;31mIndexError\u001b[0m: index 10 is out of bounds for axis 1 with size 10"
          ]
        }
      ],
      "source": [
        "for i in range(11):\n",
        "    if rf.feature_importances_[i]<0.05:\n",
        "        x_train=np.delete(x_train,i,1)\n",
        "        x_test=np.delete(x_test,i,1)"
      ],
      "id": "179eaf9c"
    },
    {
      "cell_type": "code",
      "execution_count": null,
      "metadata": {
        "id": "ad929bc4",
        "colab": {
          "base_uri": "https://localhost:8080/"
        },
        "outputId": "9854d8d0-c022-4e03-9a22-b45fa553b1df"
      },
      "outputs": [
        {
          "output_type": "execute_result",
          "data": {
            "text/plain": [
              "(248378, 10)"
            ]
          },
          "metadata": {},
          "execution_count": 54
        }
      ],
      "source": [
        "x_train.shape"
      ],
      "id": "ad929bc4"
    },
    {
      "cell_type": "code",
      "execution_count": null,
      "metadata": {
        "id": "f9f18074"
      },
      "outputs": [],
      "source": [
        "# LOGISTIC REGRESSION"
      ],
      "id": "f9f18074"
    },
    {
      "cell_type": "code",
      "execution_count": null,
      "metadata": {
        "id": "9cf9581f",
        "colab": {
          "base_uri": "https://localhost:8080/"
        },
        "outputId": "2e9b0b73-d24b-4c4f-b68a-0e89caa1c87a"
      },
      "outputs": [
        {
          "output_type": "stream",
          "name": "stderr",
          "text": [
            "/usr/local/lib/python3.7/dist-packages/sklearn/utils/validation.py:993: DataConversionWarning: A column-vector y was passed when a 1d array was expected. Please change the shape of y to (n_samples, ), for example using ravel().\n",
            "  y = column_or_1d(y, warn=True)\n"
          ]
        },
        {
          "output_type": "execute_result",
          "data": {
            "text/plain": [
              "LogisticRegression()"
            ]
          },
          "metadata": {},
          "execution_count": 56
        }
      ],
      "source": [
        "from sklearn.linear_model import LogisticRegression\n",
        "classifier_lg=LogisticRegression()\n",
        "classifier_lg.fit(x_train,y_train)"
      ],
      "id": "9cf9581f"
    },
    {
      "cell_type": "code",
      "execution_count": null,
      "metadata": {
        "id": "d9512613",
        "colab": {
          "base_uri": "https://localhost:8080/"
        },
        "outputId": "ff0ef1a7-b5a8-46f6-eada-309b82834150"
      },
      "outputs": [
        {
          "output_type": "stream",
          "name": "stdout",
          "text": [
            "[[34892  6421]\n",
            " [ 5652 35828]]\n"
          ]
        },
        {
          "output_type": "execute_result",
          "data": {
            "text/plain": [
              "0.8541784933508871"
            ]
          },
          "metadata": {},
          "execution_count": 57
        }
      ],
      "source": [
        "from sklearn.metrics import confusion_matrix ,accuracy_score\n",
        "y_pred=classifier_lg.predict(x_test)\n",
        "cm_lg=confusion_matrix(y_test,y_pred)\n",
        "print(cm_lg)\n",
        "accuracy_score(y_test,y_pred)"
      ],
      "id": "d9512613"
    },
    {
      "cell_type": "code",
      "execution_count": null,
      "metadata": {
        "id": "a6fc144e",
        "colab": {
          "base_uri": "https://localhost:8080/"
        },
        "outputId": "79d544c1-bf60-4f60-c9e5-f81a642e60aa"
      },
      "outputs": [
        {
          "output_type": "stream",
          "name": "stderr",
          "text": [
            "/usr/local/lib/python3.7/dist-packages/sklearn/utils/validation.py:993: DataConversionWarning: A column-vector y was passed when a 1d array was expected. Please change the shape of y to (n_samples, ), for example using ravel().\n",
            "  y = column_or_1d(y, warn=True)\n",
            "/usr/local/lib/python3.7/dist-packages/sklearn/utils/validation.py:993: DataConversionWarning: A column-vector y was passed when a 1d array was expected. Please change the shape of y to (n_samples, ), for example using ravel().\n",
            "  y = column_or_1d(y, warn=True)\n",
            "/usr/local/lib/python3.7/dist-packages/sklearn/utils/validation.py:993: DataConversionWarning: A column-vector y was passed when a 1d array was expected. Please change the shape of y to (n_samples, ), for example using ravel().\n",
            "  y = column_or_1d(y, warn=True)\n",
            "/usr/local/lib/python3.7/dist-packages/sklearn/utils/validation.py:993: DataConversionWarning: A column-vector y was passed when a 1d array was expected. Please change the shape of y to (n_samples, ), for example using ravel().\n",
            "  y = column_or_1d(y, warn=True)\n",
            "/usr/local/lib/python3.7/dist-packages/sklearn/utils/validation.py:993: DataConversionWarning: A column-vector y was passed when a 1d array was expected. Please change the shape of y to (n_samples, ), for example using ravel().\n",
            "  y = column_or_1d(y, warn=True)\n",
            "/usr/local/lib/python3.7/dist-packages/sklearn/utils/validation.py:993: DataConversionWarning: A column-vector y was passed when a 1d array was expected. Please change the shape of y to (n_samples, ), for example using ravel().\n",
            "  y = column_or_1d(y, warn=True)\n",
            "/usr/local/lib/python3.7/dist-packages/sklearn/utils/validation.py:993: DataConversionWarning: A column-vector y was passed when a 1d array was expected. Please change the shape of y to (n_samples, ), for example using ravel().\n",
            "  y = column_or_1d(y, warn=True)\n",
            "/usr/local/lib/python3.7/dist-packages/sklearn/utils/validation.py:993: DataConversionWarning: A column-vector y was passed when a 1d array was expected. Please change the shape of y to (n_samples, ), for example using ravel().\n",
            "  y = column_or_1d(y, warn=True)\n",
            "/usr/local/lib/python3.7/dist-packages/sklearn/utils/validation.py:993: DataConversionWarning: A column-vector y was passed when a 1d array was expected. Please change the shape of y to (n_samples, ), for example using ravel().\n",
            "  y = column_or_1d(y, warn=True)\n",
            "/usr/local/lib/python3.7/dist-packages/sklearn/utils/validation.py:993: DataConversionWarning: A column-vector y was passed when a 1d array was expected. Please change the shape of y to (n_samples, ), for example using ravel().\n",
            "  y = column_or_1d(y, warn=True)\n"
          ]
        },
        {
          "output_type": "stream",
          "name": "stdout",
          "text": [
            "Accuracy: 85.32 %\n",
            "Standard Deviation: 0.12 %\n"
          ]
        }
      ],
      "source": [
        "from sklearn.model_selection import cross_val_score\n",
        "accuracies = cross_val_score(estimator = classifier_lg, X= x_train, y= y_train, cv = 10)\n",
        "print(\"Accuracy: {:.2f} %\".format(accuracies.mean()*100))\n",
        "print(\"Standard Deviation: {:.2f} %\".format(accuracies.std()*100))"
      ],
      "id": "a6fc144e"
    },
    {
      "cell_type": "code",
      "execution_count": null,
      "metadata": {
        "id": "PNct2p7jrzMt",
        "colab": {
          "base_uri": "https://localhost:8080/"
        },
        "outputId": "9c40a37a-faed-44b5-caf0-d9c4aa1b461e"
      },
      "outputs": [
        {
          "output_type": "stream",
          "name": "stdout",
          "text": [
            "0.9380545975882636\n"
          ]
        }
      ],
      "source": [
        "import sklearn.metrics as metrics\n",
        "probs = classifier_lg.predict_proba(x_test)\n",
        "preds = probs[:,1]\n",
        "fpr, tpr, threshold = metrics.roc_curve(y_test, preds)\n",
        "roc_auc = metrics.auc(fpr, tpr)\n",
        "print(roc_auc)"
      ],
      "id": "PNct2p7jrzMt"
    },
    {
      "cell_type": "code",
      "execution_count": null,
      "metadata": {
        "id": "jry0geKar7es",
        "colab": {
          "base_uri": "https://localhost:8080/",
          "height": 334
        },
        "outputId": "2e560be7-bf08-4d3d-afb3-bfcc43cf8df4"
      },
      "outputs": [
        {
          "output_type": "stream",
          "name": "stderr",
          "text": [
            "/usr/local/lib/python3.7/dist-packages/sklearn/utils/deprecation.py:87: FutureWarning: Function plot_roc_curve is deprecated; Function :func:`plot_roc_curve` is deprecated in 1.0 and will be removed in 1.2. Use one of the class methods: :meth:`sklearn.metric.RocCurveDisplay.from_predictions` or :meth:`sklearn.metric.RocCurveDisplay.from_estimator`.\n",
            "  warnings.warn(msg, category=FutureWarning)\n"
          ]
        },
        {
          "output_type": "display_data",
          "data": {
            "text/plain": [
              "<Figure size 432x288 with 1 Axes>"
            ],
            "image/png": "[encoded data removed]"
          },
          "metadata": {
            "needs_background": "light"
          }
        }
      ],
      "source": [
        "metrics.plot_roc_curve(classifier_lg,x_test, y_test)\n",
        "plt.show()"
      ],
      "id": "jry0geKar7es"
    },
    {
      "cell_type": "code",
      "execution_count": null,
      "metadata": {
        "id": "d064b0ec"
      },
      "outputs": [],
      "source": [
        "# K nearest neighbours"
      ],
      "id": "d064b0ec"
    },
    {
      "cell_type": "code",
      "execution_count": null,
      "metadata": {
        "id": "4fbdab65"
      },
      "outputs": [],
      "source": [
        "# ELbow method "
      ],
      "id": "4fbdab65"
    },
    {
      "cell_type": "code",
      "execution_count": null,
      "metadata": {
        "id": "ad3b3ba1",
        "colab": {
          "base_uri": "https://localhost:8080/",
          "height": 295
        },
        "outputId": "cdb05e13-58d7-4929-fea4-9276b7cfa001"
      },
      "outputs": [
        {
          "output_type": "display_data",
          "data": {
            "text/plain": [
              "<Figure size 432x288 with 1 Axes>"
            ],
            "image/png": "[encoded data removed]"
          },
          "metadata": {
            "needs_background": "light"
          }
        }
      ],
      "source": [
        "from sklearn.cluster import KMeans\n",
        "WCSS=[]\n",
        "for i in range(1,20):\n",
        "  kmeans=KMeans(n_clusters=i,init='k-means++',random_state=42)\n",
        "  kmeans.fit(x)\n",
        "  WCSS.append(kmeans.inertia_)\n",
        "plt.plot(range(1,20),WCSS)\n",
        "plt.title(\"the elbow method\")\n",
        "plt.xlabel(\"number of clusters\")\n",
        "plt.ylabel(\"WCSS\")\n",
        "plt.show()"
      ],
      "id": "ad3b3ba1"
    },
    {
      "cell_type": "code",
      "execution_count": null,
      "metadata": {
        "id": "87206331",
        "colab": {
          "base_uri": "https://localhost:8080/"
        },
        "outputId": "15f09670-fc0a-42d9-e0cf-6f5290b65065"
      },
      "outputs": [
        {
          "output_type": "stream",
          "name": "stderr",
          "text": [
            "/usr/local/lib/python3.7/dist-packages/sklearn/neighbors/_classification.py:198: DataConversionWarning: A column-vector y was passed when a 1d array was expected. Please change the shape of y to (n_samples,), for example using ravel().\n",
            "  return self._fit(X, y)\n"
          ]
        },
        {
          "output_type": "execute_result",
          "data": {
            "text/plain": [
              "KNeighborsClassifier(n_neighbors=6)"
            ]
          },
          "metadata": {},
          "execution_count": 64
        }
      ],
      "source": [
        "from sklearn.neighbors import KNeighborsClassifier\n",
        "classifier_knn=KNeighborsClassifier(n_neighbors=6,metric='minkowski',p=2)\n",
        "classifier_knn.fit(x_train,y_train)"
      ],
      "id": "87206331"
    },
    {
      "cell_type": "code",
      "execution_count": null,
      "metadata": {
        "id": "11d9f39c",
        "colab": {
          "base_uri": "https://localhost:8080/"
        },
        "outputId": "a30ecf36-969a-4de1-f3d9-81922dfb826b"
      },
      "outputs": [
        {
          "output_type": "stream",
          "name": "stdout",
          "text": [
            "[[36587  4726]\n",
            " [ 8107 33373]]\n"
          ]
        },
        {
          "output_type": "execute_result",
          "data": {
            "text/plain": [
              "0.844998973343157"
            ]
          },
          "metadata": {},
          "execution_count": 66
        }
      ],
      "source": [
        "from sklearn.metrics import confusion_matrix ,accuracy_score\n",
        "y_pred1=classifier_knn.predict(x_test)\n",
        "cm_KN=confusion_matrix(y_test,y_pred1)\n",
        "print(cm_KN)\n",
        "accuracy_score(y_test,y_pred1)"
      ],
      "id": "11d9f39c"
    },
    {
      "cell_type": "code",
      "execution_count": null,
      "metadata": {
        "id": "4e47ea8b",
        "colab": {
          "base_uri": "https://localhost:8080/"
        },
        "outputId": "1a6ec85c-1784-4222-e50e-da2cc19a4479"
      },
      "outputs": [
        {
          "output_type": "stream",
          "name": "stderr",
          "text": [
            "/usr/local/lib/python3.7/dist-packages/sklearn/neighbors/_classification.py:198: DataConversionWarning: A column-vector y was passed when a 1d array was expected. Please change the shape of y to (n_samples,), for example using ravel().\n",
            "  return self._fit(X, y)\n",
            "/usr/local/lib/python3.7/dist-packages/sklearn/neighbors/_classification.py:198: DataConversionWarning: A column-vector y was passed when a 1d array was expected. Please change the shape of y to (n_samples,), for example using ravel().\n",
            "  return self._fit(X, y)\n",
            "/usr/local/lib/python3.7/dist-packages/sklearn/neighbors/_classification.py:198: DataConversionWarning: A column-vector y was passed when a 1d array was expected. Please change the shape of y to (n_samples,), for example using ravel().\n",
            "  return self._fit(X, y)\n",
            "/usr/local/lib/python3.7/dist-packages/sklearn/neighbors/_classification.py:198: DataConversionWarning: A column-vector y was passed when a 1d array was expected. Please change the shape of y to (n_samples,), for example using ravel().\n",
            "  return self._fit(X, y)\n",
            "/usr/local/lib/python3.7/dist-packages/sklearn/neighbors/_classification.py:198: DataConversionWarning: A column-vector y was passed when a 1d array was expected. Please change the shape of y to (n_samples,), for example using ravel().\n",
            "  return self._fit(X, y)\n",
            "/usr/local/lib/python3.7/dist-packages/sklearn/neighbors/_classification.py:198: DataConversionWarning: A column-vector y was passed when a 1d array was expected. Please change the shape of y to (n_samples,), for example using ravel().\n",
            "  return self._fit(X, y)\n",
            "/usr/local/lib/python3.7/dist-packages/sklearn/neighbors/_classification.py:198: DataConversionWarning: A column-vector y was passed when a 1d array was expected. Please change the shape of y to (n_samples,), for example using ravel().\n",
            "  return self._fit(X, y)\n",
            "/usr/local/lib/python3.7/dist-packages/sklearn/neighbors/_classification.py:198: DataConversionWarning: A column-vector y was passed when a 1d array was expected. Please change the shape of y to (n_samples,), for example using ravel().\n",
            "  return self._fit(X, y)\n",
            "/usr/local/lib/python3.7/dist-packages/sklearn/neighbors/_classification.py:198: DataConversionWarning: A column-vector y was passed when a 1d array was expected. Please change the shape of y to (n_samples,), for example using ravel().\n",
            "  return self._fit(X, y)\n",
            "/usr/local/lib/python3.7/dist-packages/sklearn/neighbors/_classification.py:198: DataConversionWarning: A column-vector y was passed when a 1d array was expected. Please change the shape of y to (n_samples,), for example using ravel().\n",
            "  return self._fit(X, y)\n"
          ]
        },
        {
          "output_type": "stream",
          "name": "stdout",
          "text": [
            "Accuracy: 84.38 %\n",
            "Standard Deviation: 0.17 %\n"
          ]
        }
      ],
      "source": [
        "from sklearn.model_selection import cross_val_score\n",
        "accuracies = cross_val_score(estimator = classifier_knn, X= x_train, y= y_train, cv = 10)\n",
        "print(\"Accuracy: {:.2f} %\".format(accuracies.mean()*100))\n",
        "print(\"Standard Deviation: {:.2f} %\".format(accuracies.std()*100))"
      ],
      "id": "4e47ea8b"
    },
    {
      "cell_type": "code",
      "execution_count": null,
      "metadata": {
        "id": "S-fwgGGAsJMM",
        "colab": {
          "base_uri": "https://localhost:8080/",
          "height": 351
        },
        "outputId": "f298d388-43c6-42e9-c99e-e6e18b03a56a"
      },
      "outputs": [
        {
          "output_type": "stream",
          "name": "stdout",
          "text": [
            "0.923656417465079\n"
          ]
        },
        {
          "output_type": "stream",
          "name": "stderr",
          "text": [
            "/usr/local/lib/python3.7/dist-packages/sklearn/utils/deprecation.py:87: FutureWarning: Function plot_roc_curve is deprecated; Function :func:`plot_roc_curve` is deprecated in 1.0 and will be removed in 1.2. Use one of the class methods: :meth:`sklearn.metric.RocCurveDisplay.from_predictions` or :meth:`sklearn.metric.RocCurveDisplay.from_estimator`.\n",
            "  warnings.warn(msg, category=FutureWarning)\n"
          ]
        },
        {
          "output_type": "display_data",
          "data": {
            "text/plain": [
              "<Figure size 432x288 with 1 Axes>"
            ],
            "image/png": "[encoded data removed]"
          },
          "metadata": {
            "needs_background": "light"
          }
        }
      ],
      "source": [
        "import sklearn.metrics as metrics\n",
        "probs = classifier_knn.predict_proba(x_test)\n",
        "preds = probs[:,1]\n",
        "fpr, tpr, threshold = metrics.roc_curve(y_test, preds)\n",
        "roc_auc = metrics.auc(fpr, tpr)\n",
        "print(roc_auc)\n",
        "\n",
        "metrics.plot_roc_curve(classifier_knn,x_test, y_test)\n",
        "plt.show()"
      ],
      "id": "S-fwgGGAsJMM"
    },
    {
      "cell_type": "code",
      "execution_count": null,
      "metadata": {
        "id": "96a11504"
      },
      "outputs": [],
      "source": [
        "# Naive Bayes"
      ],
      "id": "96a11504"
    },
    {
      "cell_type": "code",
      "execution_count": null,
      "metadata": {
        "id": "6d6c4f62",
        "colab": {
          "base_uri": "https://localhost:8080/"
        },
        "outputId": "7442a6da-bafb-4951-8d59-82e857193dfd"
      },
      "outputs": [
        {
          "output_type": "stream",
          "name": "stderr",
          "text": [
            "/usr/local/lib/python3.7/dist-packages/sklearn/utils/validation.py:993: DataConversionWarning: A column-vector y was passed when a 1d array was expected. Please change the shape of y to (n_samples, ), for example using ravel().\n",
            "  y = column_or_1d(y, warn=True)\n"
          ]
        },
        {
          "output_type": "execute_result",
          "data": {
            "text/plain": [
              "GaussianNB()"
            ]
          },
          "metadata": {},
          "execution_count": 65
        }
      ],
      "source": [
        "from sklearn.naive_bayes import GaussianNB\n",
        "classifier_nb=GaussianNB()\n",
        "classifier_nb.fit(x_train,y_train)"
      ],
      "id": "6d6c4f62"
    },
    {
      "cell_type": "code",
      "execution_count": null,
      "metadata": {
        "id": "966115ac",
        "colab": {
          "base_uri": "https://localhost:8080/"
        },
        "outputId": "cb23ffc3-1c75-4018-85e3-8833b96aca5a"
      },
      "outputs": [
        {
          "output_type": "stream",
          "name": "stdout",
          "text": [
            "[[23904 17409]\n",
            " [ 1409 40071]]\n"
          ]
        },
        {
          "output_type": "execute_result",
          "data": {
            "text/plain": [
              "0.7727102532822823"
            ]
          },
          "metadata": {},
          "execution_count": 70
        }
      ],
      "source": [
        "from sklearn.metrics import confusion_matrix ,accuracy_score\n",
        "y_pred2=classifier_nb.predict(x_test)\n",
        "cm_NB=confusion_matrix(y_test,y_pred2)\n",
        "print(cm_NB)\n",
        "accuracy_score(y_test,y_pred2)"
      ],
      "id": "966115ac"
    },
    {
      "cell_type": "code",
      "execution_count": null,
      "metadata": {
        "id": "e9700d11",
        "colab": {
          "base_uri": "https://localhost:8080/"
        },
        "outputId": "c7b6b7a8-1277-43c9-a721-2a9aee7dddab"
      },
      "outputs": [
        {
          "output_type": "stream",
          "name": "stderr",
          "text": [
            "/usr/local/lib/python3.7/dist-packages/sklearn/utils/validation.py:993: DataConversionWarning: A column-vector y was passed when a 1d array was expected. Please change the shape of y to (n_samples, ), for example using ravel().\n",
            "  y = column_or_1d(y, warn=True)\n",
            "/usr/local/lib/python3.7/dist-packages/sklearn/utils/validation.py:993: DataConversionWarning: A column-vector y was passed when a 1d array was expected. Please change the shape of y to (n_samples, ), for example using ravel().\n",
            "  y = column_or_1d(y, warn=True)\n",
            "/usr/local/lib/python3.7/dist-packages/sklearn/utils/validation.py:993: DataConversionWarning: A column-vector y was passed when a 1d array was expected. Please change the shape of y to (n_samples, ), for example using ravel().\n",
            "  y = column_or_1d(y, warn=True)\n",
            "/usr/local/lib/python3.7/dist-packages/sklearn/utils/validation.py:993: DataConversionWarning: A column-vector y was passed when a 1d array was expected. Please change the shape of y to (n_samples, ), for example using ravel().\n",
            "  y = column_or_1d(y, warn=True)\n",
            "/usr/local/lib/python3.7/dist-packages/sklearn/utils/validation.py:993: DataConversionWarning: A column-vector y was passed when a 1d array was expected. Please change the shape of y to (n_samples, ), for example using ravel().\n",
            "  y = column_or_1d(y, warn=True)\n",
            "/usr/local/lib/python3.7/dist-packages/sklearn/utils/validation.py:993: DataConversionWarning: A column-vector y was passed when a 1d array was expected. Please change the shape of y to (n_samples, ), for example using ravel().\n",
            "  y = column_or_1d(y, warn=True)\n",
            "/usr/local/lib/python3.7/dist-packages/sklearn/utils/validation.py:993: DataConversionWarning: A column-vector y was passed when a 1d array was expected. Please change the shape of y to (n_samples, ), for example using ravel().\n",
            "  y = column_or_1d(y, warn=True)\n",
            "/usr/local/lib/python3.7/dist-packages/sklearn/utils/validation.py:993: DataConversionWarning: A column-vector y was passed when a 1d array was expected. Please change the shape of y to (n_samples, ), for example using ravel().\n",
            "  y = column_or_1d(y, warn=True)\n",
            "/usr/local/lib/python3.7/dist-packages/sklearn/utils/validation.py:993: DataConversionWarning: A column-vector y was passed when a 1d array was expected. Please change the shape of y to (n_samples, ), for example using ravel().\n",
            "  y = column_or_1d(y, warn=True)\n",
            "/usr/local/lib/python3.7/dist-packages/sklearn/utils/validation.py:993: DataConversionWarning: A column-vector y was passed when a 1d array was expected. Please change the shape of y to (n_samples, ), for example using ravel().\n",
            "  y = column_or_1d(y, warn=True)\n"
          ]
        },
        {
          "output_type": "stream",
          "name": "stdout",
          "text": [
            "Accuracy: 77.16 %\n",
            "Standard Deviation: 1.30 %\n"
          ]
        }
      ],
      "source": [
        "from sklearn.model_selection import cross_val_score\n",
        "accuracies = cross_val_score(estimator = classifier_nb, X= x_train, y= y_train, cv = 10)\n",
        "print(\"Accuracy: {:.2f} %\".format(accuracies.mean()*100))\n",
        "print(\"Standard Deviation: {:.2f} %\".format(accuracies.std()*100))"
      ],
      "id": "e9700d11"
    },
    {
      "cell_type": "code",
      "execution_count": null,
      "metadata": {
        "id": "lRWEu52mtLB-",
        "colab": {
          "base_uri": "https://localhost:8080/",
          "height": 351
        },
        "outputId": "f0bac5fe-7bc7-468d-9979-ad1e79e5bce8"
      },
      "outputs": [
        {
          "output_type": "stream",
          "name": "stdout",
          "text": [
            "0.9229705242437248\n"
          ]
        },
        {
          "output_type": "stream",
          "name": "stderr",
          "text": [
            "/usr/local/lib/python3.7/dist-packages/sklearn/utils/deprecation.py:87: FutureWarning: Function plot_roc_curve is deprecated; Function :func:`plot_roc_curve` is deprecated in 1.0 and will be removed in 1.2. Use one of the class methods: :meth:`sklearn.metric.RocCurveDisplay.from_predictions` or :meth:`sklearn.metric.RocCurveDisplay.from_estimator`.\n",
            "  warnings.warn(msg, category=FutureWarning)\n"
          ]
        },
        {
          "output_type": "display_data",
          "data": {
            "text/plain": [
              "<Figure size 432x288 with 1 Axes>"
            ],
            "image/png": "[encoded data removed]"
          },
          "metadata": {
            "needs_background": "light"
          }
        }
      ],
      "source": [
        "import sklearn.metrics as metrics\n",
        "probs = classifier_nb.predict_proba(x_test)\n",
        "preds = probs[:,1]\n",
        "fpr, tpr, threshold = metrics.roc_curve(y_test, preds)\n",
        "roc_auc = metrics.auc(fpr, tpr)\n",
        "print(roc_auc)\n",
        "\n",
        "metrics.plot_roc_curve(classifier_nb,x_test, y_test)\n",
        "plt.show()"
      ],
      "id": "lRWEu52mtLB-"
    },
    {
      "cell_type": "code",
      "execution_count": null,
      "metadata": {
        "id": "6c46265a"
      },
      "outputs": [],
      "source": [
        "# Decision Tree"
      ],
      "id": "6c46265a"
    },
    {
      "cell_type": "code",
      "execution_count": null,
      "metadata": {
        "id": "08111828",
        "colab": {
          "base_uri": "https://localhost:8080/"
        },
        "outputId": "39825185-89a3-4309-e9a9-98a9bf660422"
      },
      "outputs": [
        {
          "output_type": "execute_result",
          "data": {
            "text/plain": [
              "DecisionTreeClassifier(criterion='entropy', random_state=0)"
            ]
          },
          "metadata": {},
          "execution_count": 74
        }
      ],
      "source": [
        "from sklearn.tree import DecisionTreeClassifier\n",
        "classifier_dt=DecisionTreeClassifier(criterion='entropy',random_state=0)\n",
        "classifier_dt.fit(x_train,y_train)"
      ],
      "id": "08111828"
    },
    {
      "cell_type": "code",
      "execution_count": null,
      "metadata": {
        "id": "21881915",
        "colab": {
          "base_uri": "https://localhost:8080/"
        },
        "outputId": "bf6d162c-c702-4e88-8793-b923b05d0de1"
      },
      "outputs": [
        {
          "output_type": "stream",
          "name": "stdout",
          "text": [
            "[[33843  7470]\n",
            " [ 7342 34138]]\n"
          ]
        },
        {
          "output_type": "execute_result",
          "data": {
            "text/plain": [
              "0.8210959863756597"
            ]
          },
          "metadata": {},
          "execution_count": 76
        }
      ],
      "source": [
        "from sklearn.metrics import confusion_matrix ,accuracy_score\n",
        "y_pred3=classifier_dt.predict(x_test)\n",
        "cm_DT=confusion_matrix(y_test,y_pred3)\n",
        "print(cm_DT)\n",
        "accuracy_score(y_test,y_pred3)"
      ],
      "id": "21881915"
    },
    {
      "cell_type": "code",
      "execution_count": null,
      "metadata": {
        "id": "05ea06bc",
        "colab": {
          "base_uri": "https://localhost:8080/"
        },
        "outputId": "dd596726-07d7-475b-8ab0-5ea29e3bbfde"
      },
      "outputs": [
        {
          "output_type": "stream",
          "name": "stdout",
          "text": [
            "Accuracy: 81.84 %\n",
            "Standard Deviation: 0.12 %\n"
          ]
        }
      ],
      "source": [
        "from sklearn.model_selection import cross_val_score\n",
        "accuracies = cross_val_score(estimator = classifier_dt, X= x_train, y= y_train, cv = 10)\n",
        "print(\"Accuracy: {:.2f} %\".format(accuracies.mean()*100))\n",
        "print(\"Standard Deviation: {:.2f} %\".format(accuracies.std()*100))"
      ],
      "id": "05ea06bc"
    },
    {
      "cell_type": "code",
      "execution_count": null,
      "metadata": {
        "id": "mBfv8bwytQ-a",
        "colab": {
          "base_uri": "https://localhost:8080/",
          "height": 351
        },
        "outputId": "49a83064-940b-4852-dfb3-91eb8c503243"
      },
      "outputs": [
        {
          "output_type": "stream",
          "name": "stdout",
          "text": [
            "0.8210913029213371\n"
          ]
        },
        {
          "output_type": "stream",
          "name": "stderr",
          "text": [
            "/usr/local/lib/python3.7/dist-packages/sklearn/utils/deprecation.py:87: FutureWarning: Function plot_roc_curve is deprecated; Function :func:`plot_roc_curve` is deprecated in 1.0 and will be removed in 1.2. Use one of the class methods: :meth:`sklearn.metric.RocCurveDisplay.from_predictions` or :meth:`sklearn.metric.RocCurveDisplay.from_estimator`.\n",
            "  warnings.warn(msg, category=FutureWarning)\n"
          ]
        },
        {
          "output_type": "display_data",
          "data": {
            "text/plain": [
              "<Figure size 432x288 with 1 Axes>"
            ],
            "image/png": "[encoded data removed]"
          },
          "metadata": {
            "needs_background": "light"
          }
        }
      ],
      "source": [
        "import sklearn.metrics as metrics\n",
        "probs = classifier_dt.predict_proba(x_test)\n",
        "preds = probs[:,1]\n",
        "fpr, tpr, threshold = metrics.roc_curve(y_test, preds)\n",
        "roc_auc = metrics.auc(fpr, tpr)\n",
        "print(roc_auc)\n",
        "\n",
        "metrics.plot_roc_curve(classifier_dt,x_test, y_test)\n",
        "plt.show()"
      ],
      "id": "mBfv8bwytQ-a"
    },
    {
      "cell_type": "code",
      "execution_count": null,
      "metadata": {
        "id": "401198d6"
      },
      "outputs": [],
      "source": [
        "# **Random Forest Classifier**"
      ],
      "id": "401198d6"
    },
    {
      "cell_type": "code",
      "execution_count": null,
      "metadata": {
        "id": "0452b421",
        "colab": {
          "base_uri": "https://localhost:8080/"
        },
        "outputId": "c02f1d1a-1c82-4f5d-9c38-4067313409b0"
      },
      "outputs": [
        {
          "output_type": "stream",
          "name": "stderr",
          "text": [
            "/usr/local/lib/python3.7/dist-packages/ipykernel_launcher.py:3: DataConversionWarning: A column-vector y was passed when a 1d array was expected. Please change the shape of y to (n_samples,), for example using ravel().\n",
            "  This is separate from the ipykernel package so we can avoid doing imports until\n"
          ]
        },
        {
          "output_type": "execute_result",
          "data": {
            "text/plain": [
              "RandomForestClassifier(criterion='entropy', n_estimators=10, random_state=0)"
            ]
          },
          "metadata": {},
          "execution_count": 82
        }
      ],
      "source": [
        "from sklearn.ensemble import RandomForestClassifier\n",
        "classifier=RandomForestClassifier(n_estimators=10,criterion='entropy',random_state=0)\n",
        "classifier.fit(x_train,y_train)"
      ],
      "id": "0452b421"
    },
    {
      "cell_type": "code",
      "execution_count": null,
      "metadata": {
        "id": "e72886b7",
        "colab": {
          "base_uri": "https://localhost:8080/"
        },
        "outputId": "c85de5bf-f53e-471b-e1e9-61581d704eae"
      },
      "outputs": [
        {
          "output_type": "stream",
          "name": "stdout",
          "text": [
            "[[36404  4909]\n",
            " [ 6977 34503]]\n"
          ]
        },
        {
          "output_type": "execute_result",
          "data": {
            "text/plain": [
              "0.8564371384054208"
            ]
          },
          "metadata": {},
          "execution_count": 83
        }
      ],
      "source": [
        "from sklearn.metrics import confusion_matrix ,accuracy_score\n",
        "y_pred4=classifier.predict(x_test)\n",
        "cm_RF=confusion_matrix(y_test,y_pred4)\n",
        "print(cm_RF)\n",
        "accuracy_score(y_test,y_pred4)"
      ],
      "id": "e72886b7"
    },
    {
      "cell_type": "code",
      "execution_count": null,
      "metadata": {
        "id": "da82a47a",
        "colab": {
          "base_uri": "https://localhost:8080/"
        },
        "outputId": "24f55fb7-0050-4fb6-8e05-47477f5e0b96"
      },
      "outputs": [
        {
          "output_type": "stream",
          "name": "stderr",
          "text": [
            "/usr/local/lib/python3.7/dist-packages/sklearn/model_selection/_validation.py:680: DataConversionWarning: A column-vector y was passed when a 1d array was expected. Please change the shape of y to (n_samples,), for example using ravel().\n",
            "  estimator.fit(X_train, y_train, **fit_params)\n",
            "/usr/local/lib/python3.7/dist-packages/sklearn/model_selection/_validation.py:680: DataConversionWarning: A column-vector y was passed when a 1d array was expected. Please change the shape of y to (n_samples,), for example using ravel().\n",
            "  estimator.fit(X_train, y_train, **fit_params)\n",
            "/usr/local/lib/python3.7/dist-packages/sklearn/model_selection/_validation.py:680: DataConversionWarning: A column-vector y was passed when a 1d array was expected. Please change the shape of y to (n_samples,), for example using ravel().\n",
            "  estimator.fit(X_train, y_train, **fit_params)\n",
            "/usr/local/lib/python3.7/dist-packages/sklearn/model_selection/_validation.py:680: DataConversionWarning: A column-vector y was passed when a 1d array was expected. Please change the shape of y to (n_samples,), for example using ravel().\n",
            "  estimator.fit(X_train, y_train, **fit_params)\n",
            "/usr/local/lib/python3.7/dist-packages/sklearn/model_selection/_validation.py:680: DataConversionWarning: A column-vector y was passed when a 1d array was expected. Please change the shape of y to (n_samples,), for example using ravel().\n",
            "  estimator.fit(X_train, y_train, **fit_params)\n",
            "/usr/local/lib/python3.7/dist-packages/sklearn/model_selection/_validation.py:680: DataConversionWarning: A column-vector y was passed when a 1d array was expected. Please change the shape of y to (n_samples,), for example using ravel().\n",
            "  estimator.fit(X_train, y_train, **fit_params)\n",
            "/usr/local/lib/python3.7/dist-packages/sklearn/model_selection/_validation.py:680: DataConversionWarning: A column-vector y was passed when a 1d array was expected. Please change the shape of y to (n_samples,), for example using ravel().\n",
            "  estimator.fit(X_train, y_train, **fit_params)\n",
            "/usr/local/lib/python3.7/dist-packages/sklearn/model_selection/_validation.py:680: DataConversionWarning: A column-vector y was passed when a 1d array was expected. Please change the shape of y to (n_samples,), for example using ravel().\n",
            "  estimator.fit(X_train, y_train, **fit_params)\n",
            "/usr/local/lib/python3.7/dist-packages/sklearn/model_selection/_validation.py:680: DataConversionWarning: A column-vector y was passed when a 1d array was expected. Please change the shape of y to (n_samples,), for example using ravel().\n",
            "  estimator.fit(X_train, y_train, **fit_params)\n",
            "/usr/local/lib/python3.7/dist-packages/sklearn/model_selection/_validation.py:680: DataConversionWarning: A column-vector y was passed when a 1d array was expected. Please change the shape of y to (n_samples,), for example using ravel().\n",
            "  estimator.fit(X_train, y_train, **fit_params)\n"
          ]
        },
        {
          "output_type": "stream",
          "name": "stdout",
          "text": [
            "Accuracy: 85.49 %\n",
            "Standard Deviation: 0.10 %\n"
          ]
        }
      ],
      "source": [
        "from sklearn.model_selection import cross_val_score\n",
        "accuracies = cross_val_score(estimator = classifier, X= x_train, y= y_train, cv = 10)\n",
        "print(\"Accuracy: {:.2f} %\".format(accuracies.mean()*100))\n",
        "print(\"Standard Deviation: {:.2f} %\".format(accuracies.std()*100))"
      ],
      "id": "da82a47a"
    },
    {
      "cell_type": "code",
      "execution_count": null,
      "metadata": {
        "id": "e6774529",
        "outputId": "1aa705ba-aa67-4651-e867-c1273ee358a6"
      },
      "outputs": [
        {
          "name": "stdout",
          "output_type": "stream",
          "text": [
            "0.9368279755082773\n"
          ]
        },
        {
          "name": "stderr",
          "output_type": "stream",
          "text": [
            "C:\\Users\\WELCOME\\anaconda3\\lib\\site-packages\\sklearn\\utils\\deprecation.py:87: FutureWarning: Function plot_roc_curve is deprecated; Function :func:`plot_roc_curve` is deprecated in 1.0 and will be removed in 1.2. Use one of the class methods: :meth:`sklearn.metric.RocCurveDisplay.from_predictions` or :meth:`sklearn.metric.RocCurveDisplay.from_estimator`.\n",
            "  warnings.warn(msg, category=FutureWarning)\n"
          ]
        },
        {
          "data": {
            "image/png": "[encoded data removed]",
            "text/plain": [
              "<Figure size 432x288 with 1 Axes>"
            ]
          },
          "metadata": {
            "needs_background": "light"
          },
          "output_type": "display_data"
        }
      ],
      "source": [
        "import sklearn.metrics as metrics\n",
        "probs = classifier.predict_proba(x_test)\n",
        "preds = probs[:,1]\n",
        "fpr, tpr, threshold = metrics.roc_curve(y_test, preds)\n",
        "roc_auc = metrics.auc(fpr, tpr)\n",
        "print(roc_auc)\n",
        "\n",
        "metrics.plot_roc_curve(classifier,x_test, y_test)\n",
        "plt.show()"
      ],
      "id": "e6774529"
    },
    {
      "cell_type": "code",
      "execution_count": null,
      "metadata": {
        "id": "7a2bacca",
        "outputId": "2f53b611-b275-4f69-8858-5933abdc5076"
      },
      "outputs": [
        {
          "name": "stderr",
          "output_type": "stream",
          "text": [
            "C:\\Users\\WELCOME\\anaconda3\\lib\\site-packages\\sklearn\\utils\\validation.py:993: DataConversionWarning: A column-vector y was passed when a 1d array was expected. Please change the shape of y to (n_samples, ), for example using ravel().\n",
            "  y = column_or_1d(y, warn=True)\n"
          ]
        },
        {
          "data": {
            "text/plain": [
              "SVC(random_state=0)"
            ]
          },
          "execution_count": 18,
          "metadata": {},
          "output_type": "execute_result"
        }
      ],
      "source": [
        "#SVM Classifier \n",
        "\n",
        "from sklearn.svm import SVC\n",
        "classifier=SVC(kernel='rbf',random_state=0)\n",
        "classifier.fit(x_train_new,y_train)"
      ],
      "id": "7a2bacca"
    },
    {
      "cell_type": "code",
      "execution_count": null,
      "metadata": {
        "id": "4729f50b",
        "outputId": "9f645459-c080-40e3-f8bc-7610dcaae107"
      },
      "outputs": [
        {
          "name": "stdout",
          "output_type": "stream",
          "text": [
            "[[35420  5679]\n",
            " [ 6242 35452]]\n"
          ]
        },
        {
          "data": {
            "text/plain": [
              "0.8560143973524332"
            ]
          },
          "execution_count": 19,
          "metadata": {},
          "output_type": "execute_result"
        }
      ],
      "source": [
        "from sklearn.metrics import confusion_matrix ,accuracy_score\n",
        "y_pred5=classifier.predict(x_test_new)\n",
        "cm_svm=confusion_matrix(y_test,y_pred5)\n",
        "print(cm_svm)\n",
        "accuracy_score(y_test,y_pred5)"
      ],
      "id": "4729f50b"
    },
    {
      "cell_type": "code",
      "execution_count": null,
      "metadata": {
        "id": "b255e76b",
        "outputId": "a9dd4fce-af66-4706-90f6-97dc8b391ef2"
      },
      "outputs": [
        {
          "name": "stderr",
          "output_type": "stream",
          "text": [
            "C:\\Users\\WELCOME\\anaconda3\\lib\\site-packages\\sklearn\\utils\\validation.py:993: DataConversionWarning: A column-vector y was passed when a 1d array was expected. Please change the shape of y to (n_samples, ), for example using ravel().\n",
            "  y = column_or_1d(y, warn=True)\n",
            "C:\\Users\\WELCOME\\anaconda3\\lib\\site-packages\\sklearn\\utils\\validation.py:993: DataConversionWarning: A column-vector y was passed when a 1d array was expected. Please change the shape of y to (n_samples, ), for example using ravel().\n",
            "  y = column_or_1d(y, warn=True)\n",
            "C:\\Users\\WELCOME\\anaconda3\\lib\\site-packages\\sklearn\\utils\\validation.py:993: DataConversionWarning: A column-vector y was passed when a 1d array was expected. Please change the shape of y to (n_samples, ), for example using ravel().\n",
            "  y = column_or_1d(y, warn=True)\n",
            "C:\\Users\\WELCOME\\anaconda3\\lib\\site-packages\\sklearn\\utils\\validation.py:993: DataConversionWarning: A column-vector y was passed when a 1d array was expected. Please change the shape of y to (n_samples, ), for example using ravel().\n",
            "  y = column_or_1d(y, warn=True)\n",
            "C:\\Users\\WELCOME\\anaconda3\\lib\\site-packages\\sklearn\\utils\\validation.py:993: DataConversionWarning: A column-vector y was passed when a 1d array was expected. Please change the shape of y to (n_samples, ), for example using ravel().\n",
            "  y = column_or_1d(y, warn=True)\n"
          ]
        },
        {
          "name": "stdout",
          "output_type": "stream",
          "text": [
            "Accuracy: 85.62 %\n",
            "Standard Deviation: 0.11 %\n"
          ]
        }
      ],
      "source": [
        "from sklearn.model_selection import cross_val_score\n",
        "accuracies = cross_val_score(estimator = classifier, X= x_train_new, y= y_train, cv = 5)\n",
        "print(\"Accuracy: {:.2f} %\".format(accuracies.mean()*100))\n",
        "print(\"Standard Deviation: {:.2f} %\".format(accuracies.std()*100))"
      ],
      "id": "b255e76b"
    },
    {
      "cell_type": "code",
      "execution_count": null,
      "metadata": {
        "id": "40b15a3b",
        "outputId": "2b7c308b-dff9-4505-f23b-df31e69aaf93"
      },
      "outputs": [
        {
          "name": "stdout",
          "output_type": "stream",
          "text": [
            "0.856055832566177\n"
          ]
        },
        {
          "name": "stderr",
          "output_type": "stream",
          "text": [
            "C:\\Users\\WELCOME\\anaconda3\\lib\\site-packages\\sklearn\\utils\\deprecation.py:87: FutureWarning: Function plot_roc_curve is deprecated; Function :func:`plot_roc_curve` is deprecated in 1.0 and will be removed in 1.2. Use one of the class methods: :meth:`sklearn.metric.RocCurveDisplay.from_predictions` or :meth:`sklearn.metric.RocCurveDisplay.from_estimator`.\n",
            "  warnings.warn(msg, category=FutureWarning)\n"
          ]
        },
        {
          "data": {
            "image/png": "[encoded data removed]",
            "text/plain": [
              "<Figure size 432x288 with 1 Axes>"
            ]
          },
          "metadata": {
            "needs_background": "light"
          },
          "output_type": "display_data"
        }
      ],
      "source": [
        "import sklearn.metrics as metrics\n",
        "#probs = classifier.predict_proba(x_test_new)\n",
        "preds = classifier.predict(x_test_new)\n",
        "#preds = probs[:,1]\n",
        "fpr, tpr, threshold = metrics.roc_curve(y_test, preds)\n",
        "roc_auc = metrics.auc(fpr, tpr)\n",
        "print(roc_auc)\n",
        "\n",
        "metrics.plot_roc_curve(classifier,x_test_new, y_test)\n",
        "plt.show()"
      ],
      "id": "40b15a3b"
    },
    {
      "cell_type": "code",
      "execution_count": null,
      "metadata": {
        "id": "c73c455b"
      },
      "outputs": [],
      "source": [
        "# XGBOOST"
      ],
      "id": "c73c455b"
    },
    {
      "cell_type": "code",
      "execution_count": null,
      "metadata": {
        "id": "992bfc37",
        "colab": {
          "base_uri": "https://localhost:8080/"
        },
        "outputId": "b93be935-a484-446b-8aa4-5a4faca69f39"
      },
      "outputs": [
        {
          "output_type": "stream",
          "name": "stdout",
          "text": [
            "Looking in indexes: https://pypi.org/simple, https://us-python.pkg.dev/colab-wheels/public/simple/\n",
            "Requirement already satisfied: xgboost in /usr/local/lib/python3.7/dist-packages (0.90)\n",
            "Requirement already satisfied: numpy in /usr/local/lib/python3.7/dist-packages (from xgboost) (1.21.6)\n",
            "Requirement already satisfied: scipy in /usr/local/lib/python3.7/dist-packages (from xgboost) (1.7.3)\n"
          ]
        },
        {
          "output_type": "stream",
          "name": "stderr",
          "text": [
            "/usr/local/lib/python3.7/dist-packages/sklearn/preprocessing/_label.py:98: DataConversionWarning: A column-vector y was passed when a 1d array was expected. Please change the shape of y to (n_samples, ), for example using ravel().\n",
            "  y = column_or_1d(y, warn=True)\n",
            "/usr/local/lib/python3.7/dist-packages/sklearn/preprocessing/_label.py:133: DataConversionWarning: A column-vector y was passed when a 1d array was expected. Please change the shape of y to (n_samples, ), for example using ravel().\n",
            "  y = column_or_1d(y, warn=True)\n"
          ]
        },
        {
          "output_type": "execute_result",
          "data": {
            "text/plain": [
              "XGBClassifier()"
            ]
          },
          "metadata": {},
          "execution_count": 86
        }
      ],
      "source": [
        "!pip install xgboost\n",
        "from xgboost import XGBClassifier\n",
        "classifier= XGBClassifier()\n",
        "classifier.fit(x_train,y_train)"
      ],
      "id": "992bfc37"
    },
    {
      "cell_type": "code",
      "execution_count": null,
      "metadata": {
        "id": "e39f9f18",
        "colab": {
          "base_uri": "https://localhost:8080/"
        },
        "outputId": "70d64755-3f34-4d0a-a542-7fa0bdd548a1"
      },
      "outputs": [
        {
          "output_type": "stream",
          "name": "stdout",
          "text": [
            "[[35536  5777]\n",
            " [ 5673 35807]]\n"
          ]
        },
        {
          "output_type": "execute_result",
          "data": {
            "text/plain": [
              "0.8617032840940659"
            ]
          },
          "metadata": {},
          "execution_count": 87
        }
      ],
      "source": [
        "from sklearn.metrics import confusion_matrix ,accuracy_score\n",
        "y_pred5=classifier.predict(x_test)\n",
        "cm_xg=confusion_matrix(y_test,y_pred5)\n",
        "print(cm_xg)\n",
        "accuracy_score(y_test,y_pred5)"
      ],
      "id": "e39f9f18"
    },
    {
      "cell_type": "code",
      "execution_count": null,
      "metadata": {
        "id": "db84a227",
        "colab": {
          "base_uri": "https://localhost:8080/",
          "height": 351
        },
        "outputId": "dbf43569-61f7-4a57-e45a-c9d99f0723a3"
      },
      "outputs": [
        {
          "output_type": "stream",
          "name": "stdout",
          "text": [
            "0.9459947454436848\n"
          ]
        },
        {
          "output_type": "stream",
          "name": "stderr",
          "text": [
            "/usr/local/lib/python3.7/dist-packages/sklearn/utils/deprecation.py:87: FutureWarning: Function plot_roc_curve is deprecated; Function :func:`plot_roc_curve` is deprecated in 1.0 and will be removed in 1.2. Use one of the class methods: :meth:`sklearn.metric.RocCurveDisplay.from_predictions` or :meth:`sklearn.metric.RocCurveDisplay.from_estimator`.\n",
            "  warnings.warn(msg, category=FutureWarning)\n"
          ]
        },
        {
          "output_type": "display_data",
          "data": {
            "text/plain": [
              "<Figure size 432x288 with 1 Axes>"
            ],
            "image/png": "[encoded data removed]"
          },
          "metadata": {
            "needs_background": "light"
          }
        }
      ],
      "source": [
        "import sklearn.metrics as metrics\n",
        "probs = classifier.predict_proba(x_test)\n",
        "preds = probs[:,1]\n",
        "fpr, tpr, threshold = metrics.roc_curve(y_test, preds)\n",
        "roc_auc = metrics.auc(fpr, tpr)\n",
        "print(roc_auc)\n",
        "metrics.plot_roc_curve(classifier,x_test, y_test)\n",
        "plt.show()"
      ],
      "id": "db84a227"
    },
    {
      "cell_type": "code",
      "execution_count": null,
      "metadata": {
        "id": "c4KjncqJEpCk"
      },
      "outputs": [],
      "source": [],
      "id": "c4KjncqJEpCk"
    }
  ],
  "metadata": {
    "colab": {
      "collapsed_sections": [],
      "provenance": [],
      "include_colab_link": true
    },
    "kernelspec": {
      "display_name": "Python 3 (ipykernel)",
      "language": "python",
      "name": "python3"
    },
    "language_info": {
      "codemirror_mode": {
        "name": "ipython",
        "version": 3
      },
      "file_extension": ".py",
      "mimetype": "text/x-python",
      "name": "python",
      "nbconvert_exporter": "python",
      "pygments_lexer": "ipython3",
      "version": "3.9.7"
    }
  },
  "nbformat": 4,
  "nbformat_minor": 5
}